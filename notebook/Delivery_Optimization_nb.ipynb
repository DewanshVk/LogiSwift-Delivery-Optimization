{
 "cells": [
  {
   "cell_type": "markdown",
   "id": "a139509bd0a58e3e",
   "metadata": {},
   "source": [
    "# LogiSwift Delivery Optimization\n",
    "\n",
    "**Objective:**\n",
    "Optimize delivery slot allocation to reduce delivery delays, improve on-time delivery rates, and maximize business savings.\n",
    "\n",
    "This notebook handles:\n",
    "1. Data cleaning and preprocessing\n",
    "2. Feature engineering\n",
    "3. Exploratory Data Analysis (EDA)\n",
    "4. Clustering & segmentation\n",
    "5. Logistic Regression modeling for delivery prediction\n",
    "6. Simulation of festive demand scenarios"
   ],
   "attachments": {
    "efa0af8a-4809-4094-baec-1ac8cb19e313.png": {
     "image/png": "[encoded data removed]"
    },
    "e22d66b3-538b-4ca0-82e6-be3d422b0db2.png": {
     "image/png": "[encoded data removed]"
    }
   }
  },
  {
   "cell_type": "markdown",
   "id": "efbeb1ea2175e1a7",
   "metadata": {},
   "source": [
    "## 1) Imports & Settings"
   ]
  },
  {
   "cell_type": "code",
   "id": "8754263f1700287c",
   "metadata": {
    "ExecuteTime": {
     "end_time": "2025-09-11T10:16:05.475827Z",
     "start_time": "2025-09-11T10:16:04.864945Z"
    }
   },
   "source": [
    "from sklearn.exceptions import UndefinedMetricWarning\n",
    "import warnings\n",
    "warnings.filterwarnings(\"ignore\", category=UndefinedMetricWarning)\n",
    "\n",
    "import logging\n",
    "logging.basicConfig(level=logging.WARN)\n",
    "\n",
    "import pandas as pd\n",
    "import numpy as np\n",
    "import matplotlib.pyplot as plt\n",
    "import seaborn as sns\n",
    "\n",
    "from sklearn.preprocessing import StandardScaler\n",
    "from sklearn.model_selection import train_test_split, cross_val_score\n",
    "from sklearn.linear_model import LogisticRegression\n",
    "from sklearn.model_selection import GridSearchCV\n",
    "from sklearn.metrics import roc_auc_score, confusion_matrix, classification_report\n",
    "from sklearn.cluster import KMeans"
   ],
   "outputs": [],
   "execution_count": 1
  },
  {
   "cell_type": "markdown",
   "id": "6a4fe0405c2f7426",
   "metadata": {},
   "source": [
    "# Data Loading & Privacy Considerations\n",
    "\n",
    "- Load order, customer, and courier datasets.\n",
    "- Apply consent filtering to respect customer privacy:\n",
    "  Only include customers who have provided consent (`consent_flag == True`).\n",
    "- Ensure robust CSV loading with try-except for large datasets.\n",
    "\n",
    "**Business Impact:**\n",
    "Maintains compliance with privacy regulations and ensures accurate analysis.\n"
   ]
  },
  {
   "cell_type": "code",
   "id": "26a590131cf549e4",
   "metadata": {
    "ExecuteTime": {
     "end_time": "2025-09-11T10:16:05.717378Z",
     "start_time": "2025-09-11T10:16:05.528566Z"
    }
   },
   "source": [
    "try:\n",
    "    df_orders = pd.read_csv(\"data/orders.csv\")\n",
    "    df_inventory = pd.read_csv(\"data/inventory.csv\")\n",
    "    df_customers = pd.read_csv(\"data/customers.csv\")\n",
    "    df_couriers = pd.read_csv(\"data/couriers.csv\")\n",
    "    df_external = pd.read_csv(\"data/external.csv\")\n",
    "except FileNotFoundError as e:\n",
    "    logging.error(f\"File not found: {e}\")\n",
    "    raise"
   ],
   "outputs": [],
   "execution_count": 2
  },
  {
   "cell_type": "code",
   "id": "717cb79cf5e47ac5",
   "metadata": {
    "ExecuteTime": {
     "end_time": "2025-09-11T10:16:05.737989Z",
     "start_time": "2025-09-11T10:16:05.726428Z"
    }
   },
   "source": [
    "df_customers = df_customers[df_customers['consent_flag'] == True]\n",
    "logging.info(f\"Customers after consent filter: {len(df_customers)}\")"
   ],
   "outputs": [],
   "execution_count": 3
  },
  {
   "cell_type": "code",
   "id": "8931e5f2aec1c74a",
   "metadata": {
    "ExecuteTime": {
     "end_time": "2025-09-11T10:16:05.753835Z",
     "start_time": "2025-09-11T10:16:05.749151Z"
    }
   },
   "source": [
    "# quick schema summary\n",
    "def schema_summary(df,name):\n",
    "    if df.empty:\n",
    "        print(name, \"EMPTY\")\n",
    "        return\n",
    "    print(f\"--- {name} --- {df.shape}\")\n",
    "    print(df.dtypes)\n",
    "    print(\"Null %:\\n\", (df.isnull().mean()*100).round(2).to_dict())\n",
    "    display(df.head(2))\n",
    "    print()"
   ],
   "outputs": [],
   "execution_count": 4
  },
  {
   "cell_type": "code",
   "id": "4c4f9f4d93e87c0d",
   "metadata": {
    "ExecuteTime": {
     "end_time": "2025-09-11T10:16:05.839951Z",
     "start_time": "2025-09-11T10:16:05.788863Z"
    }
   },
   "source": [
    "schema_summary(df_orders,'orders')"
   ],
   "outputs": [
    {
     "name": "stdout",
     "output_type": "stream",
     "text": [
      "--- orders --- (23041, 13)\n",
      "order_id                 object\n",
      "customer_id              object\n",
      "order_date               object\n",
      "order_value             float64\n",
      "order_size                int64\n",
      "delivery_preference      object\n",
      "promised_slot_start      object\n",
      "promised_slot_end        object\n",
      "actual_delivery_time     object\n",
      "delivery_status          object\n",
      "courier_id               object\n",
      "warehouse_id             object\n",
      "churn_indicator            bool\n",
      "dtype: object\n",
      "Null %:\n",
      " {'order_id': 0.0, 'customer_id': 0.0, 'order_date': 0.0, 'order_value': 0.0, 'order_size': 0.0, 'delivery_preference': 0.0, 'promised_slot_start': 0.0, 'promised_slot_end': 0.0, 'actual_delivery_time': 9.68, 'delivery_status': 0.0, 'courier_id': 0.0, 'warehouse_id': 0.0, 'churn_indicator': 0.0}\n"
     ]
    },
    {
     "data": {
      "text/plain": [
       "    order_id customer_id           order_date  order_value  order_size  \\\n",
       "0  ORD000001   CUST00938  2024-06-08 20:18:23      2365.36           3   \n",
       "1  ORD000002   CUST04967  2025-06-15 02:36:31    148749.76           4   \n",
       "\n",
       "  delivery_preference  promised_slot_start    promised_slot_end  \\\n",
       "0             Evening  2024-06-11 03:18:23  2024-06-11 05:18:23   \n",
       "1             Evening  2025-06-17 18:36:31  2025-06-17 20:36:31   \n",
       "\n",
       "  actual_delivery_time delivery_status    courier_id warehouse_id  \\\n",
       "0  2024-06-11 07:33:23       Delivered  COURIER01626       WH0258   \n",
       "1  2025-06-17 20:31:31       Delivered  COURIER01313       WH0563   \n",
       "\n",
       "   churn_indicator  \n",
       "0            False  \n",
       "1            False  "
      ],
      "text/html": [
       "<div>\n",
       "<style scoped>\n",
       "    .dataframe tbody tr th:only-of-type {\n",
       "        vertical-align: middle;\n",
       "    }\n",
       "\n",
       "    .dataframe tbody tr th {\n",
       "        vertical-align: top;\n",
       "    }\n",
       "\n",
       "    .dataframe thead th {\n",
       "        text-align: right;\n",
       "    }\n",
       "</style>\n",
       "<table border=\"1\" class=\"dataframe\">\n",
       "  <thead>\n",
       "    <tr style=\"text-align: right;\">\n",
       "      <th></th>\n",
       "      <th>order_id</th>\n",
       "      <th>customer_id</th>\n",
       "      <th>order_date</th>\n",
       "      <th>order_value</th>\n",
       "      <th>order_size</th>\n",
       "      <th>delivery_preference</th>\n",
       "      <th>promised_slot_start</th>\n",
       "      <th>promised_slot_end</th>\n",
       "      <th>actual_delivery_time</th>\n",
       "      <th>delivery_status</th>\n",
       "      <th>courier_id</th>\n",
       "      <th>warehouse_id</th>\n",
       "      <th>churn_indicator</th>\n",
       "    </tr>\n",
       "  </thead>\n",
       "  <tbody>\n",
       "    <tr>\n",
       "      <th>0</th>\n",
       "      <td>ORD000001</td>\n",
       "      <td>CUST00938</td>\n",
       "      <td>2024-06-08 20:18:23</td>\n",
       "      <td>2365.36</td>\n",
       "      <td>3</td>\n",
       "      <td>Evening</td>\n",
       "      <td>2024-06-11 03:18:23</td>\n",
       "      <td>2024-06-11 05:18:23</td>\n",
       "      <td>2024-06-11 07:33:23</td>\n",
       "      <td>Delivered</td>\n",
       "      <td>COURIER01626</td>\n",
       "      <td>WH0258</td>\n",
       "      <td>False</td>\n",
       "    </tr>\n",
       "    <tr>\n",
       "      <th>1</th>\n",
       "      <td>ORD000002</td>\n",
       "      <td>CUST04967</td>\n",
       "      <td>2025-06-15 02:36:31</td>\n",
       "      <td>148749.76</td>\n",
       "      <td>4</td>\n",
       "      <td>Evening</td>\n",
       "      <td>2025-06-17 18:36:31</td>\n",
       "      <td>2025-06-17 20:36:31</td>\n",
       "      <td>2025-06-17 20:31:31</td>\n",
       "      <td>Delivered</td>\n",
       "      <td>COURIER01313</td>\n",
       "      <td>WH0563</td>\n",
       "      <td>False</td>\n",
       "    </tr>\n",
       "  </tbody>\n",
       "</table>\n",
       "</div>"
      ]
     },
     "metadata": {},
     "output_type": "display_data",
     "jetTransient": {
      "display_id": null
     }
    },
    {
     "name": "stdout",
     "output_type": "stream",
     "text": [
      "\n"
     ]
    }
   ],
   "execution_count": 5
  },
  {
   "cell_type": "code",
   "id": "1eb1130cf70c3f3",
   "metadata": {
    "ExecuteTime": {
     "end_time": "2025-09-11T10:16:06.065110Z",
     "start_time": "2025-09-11T10:16:06.053119Z"
    }
   },
   "source": [
    "schema_summary(df_customers,'customers')"
   ],
   "outputs": [
    {
     "name": "stdout",
     "output_type": "stream",
     "text": [
      "--- customers --- (9469, 3)\n",
      "customer_id          object\n",
      "customer_location    object\n",
      "consent_flag           bool\n",
      "dtype: object\n",
      "Null %:\n",
      " {'customer_id': 0.0, 'customer_location': 0.0, 'consent_flag': 0.0}\n"
     ]
    },
    {
     "data": {
      "text/plain": [
       "  customer_id customer_location  consent_flag\n",
       "0   CUST00001   Madurai, 625004          True\n",
       "1   CUST00002  Amritsar, 143001          True"
      ],
      "text/html": [
       "<div>\n",
       "<style scoped>\n",
       "    .dataframe tbody tr th:only-of-type {\n",
       "        vertical-align: middle;\n",
       "    }\n",
       "\n",
       "    .dataframe tbody tr th {\n",
       "        vertical-align: top;\n",
       "    }\n",
       "\n",
       "    .dataframe thead th {\n",
       "        text-align: right;\n",
       "    }\n",
       "</style>\n",
       "<table border=\"1\" class=\"dataframe\">\n",
       "  <thead>\n",
       "    <tr style=\"text-align: right;\">\n",
       "      <th></th>\n",
       "      <th>customer_id</th>\n",
       "      <th>customer_location</th>\n",
       "      <th>consent_flag</th>\n",
       "    </tr>\n",
       "  </thead>\n",
       "  <tbody>\n",
       "    <tr>\n",
       "      <th>0</th>\n",
       "      <td>CUST00001</td>\n",
       "      <td>Madurai, 625004</td>\n",
       "      <td>True</td>\n",
       "    </tr>\n",
       "    <tr>\n",
       "      <th>1</th>\n",
       "      <td>CUST00002</td>\n",
       "      <td>Amritsar, 143001</td>\n",
       "      <td>True</td>\n",
       "    </tr>\n",
       "  </tbody>\n",
       "</table>\n",
       "</div>"
      ]
     },
     "metadata": {},
     "output_type": "display_data",
     "jetTransient": {
      "display_id": null
     }
    },
    {
     "name": "stdout",
     "output_type": "stream",
     "text": [
      "\n"
     ]
    }
   ],
   "execution_count": 6
  },
  {
   "cell_type": "code",
   "id": "bb4bd90b0b11fd91",
   "metadata": {
    "ExecuteTime": {
     "end_time": "2025-09-11T10:16:06.406723Z",
     "start_time": "2025-09-11T10:16:06.392910Z"
    }
   },
   "source": [
    "schema_summary(df_inventory,'inventory')"
   ],
   "outputs": [
    {
     "name": "stdout",
     "output_type": "stream",
     "text": [
      "--- inventory --- (1000, 3)\n",
      "warehouse_id           object\n",
      "stock_level           float64\n",
      "warehouse_location     object\n",
      "dtype: object\n",
      "Null %:\n",
      " {'warehouse_id': 0.0, 'stock_level': 4.0, 'warehouse_location': 0.0}\n"
     ]
    },
    {
     "data": {
      "text/plain": [
       "  warehouse_id  stock_level warehouse_location\n",
       "0       WH0001        219.0     Ranchi, 834012\n",
       "1       WH0002        302.0     Meerut, 250003"
      ],
      "text/html": [
       "<div>\n",
       "<style scoped>\n",
       "    .dataframe tbody tr th:only-of-type {\n",
       "        vertical-align: middle;\n",
       "    }\n",
       "\n",
       "    .dataframe tbody tr th {\n",
       "        vertical-align: top;\n",
       "    }\n",
       "\n",
       "    .dataframe thead th {\n",
       "        text-align: right;\n",
       "    }\n",
       "</style>\n",
       "<table border=\"1\" class=\"dataframe\">\n",
       "  <thead>\n",
       "    <tr style=\"text-align: right;\">\n",
       "      <th></th>\n",
       "      <th>warehouse_id</th>\n",
       "      <th>stock_level</th>\n",
       "      <th>warehouse_location</th>\n",
       "    </tr>\n",
       "  </thead>\n",
       "  <tbody>\n",
       "    <tr>\n",
       "      <th>0</th>\n",
       "      <td>WH0001</td>\n",
       "      <td>219.0</td>\n",
       "      <td>Ranchi, 834012</td>\n",
       "    </tr>\n",
       "    <tr>\n",
       "      <th>1</th>\n",
       "      <td>WH0002</td>\n",
       "      <td>302.0</td>\n",
       "      <td>Meerut, 250003</td>\n",
       "    </tr>\n",
       "  </tbody>\n",
       "</table>\n",
       "</div>"
      ]
     },
     "metadata": {},
     "output_type": "display_data",
     "jetTransient": {
      "display_id": null
     }
    },
    {
     "name": "stdout",
     "output_type": "stream",
     "text": [
      "\n"
     ]
    }
   ],
   "execution_count": 7
  },
  {
   "cell_type": "code",
   "id": "b345f0ab43121e13",
   "metadata": {
    "ExecuteTime": {
     "end_time": "2025-09-11T10:16:06.689251Z",
     "start_time": "2025-09-11T10:16:06.679286Z"
    }
   },
   "source": [
    "schema_summary(df_couriers,'couriers')"
   ],
   "outputs": [
    {
     "name": "stdout",
     "output_type": "stream",
     "text": [
      "--- couriers --- (2000, 3)\n",
      "courier_id          object\n",
      "courier_location    object\n",
      "availability        object\n",
      "dtype: object\n",
      "Null %:\n",
      " {'courier_id': 0.0, 'courier_location': 0.0, 'availability': 9.95}\n"
     ]
    },
    {
     "data": {
      "text/plain": [
       "     courier_id courier_location availability\n",
       "0  COURIER00001    Hubli, 580032         True\n",
       "1  COURIER00002  Gurgaon, 122005        False"
      ],
      "text/html": [
       "<div>\n",
       "<style scoped>\n",
       "    .dataframe tbody tr th:only-of-type {\n",
       "        vertical-align: middle;\n",
       "    }\n",
       "\n",
       "    .dataframe tbody tr th {\n",
       "        vertical-align: top;\n",
       "    }\n",
       "\n",
       "    .dataframe thead th {\n",
       "        text-align: right;\n",
       "    }\n",
       "</style>\n",
       "<table border=\"1\" class=\"dataframe\">\n",
       "  <thead>\n",
       "    <tr style=\"text-align: right;\">\n",
       "      <th></th>\n",
       "      <th>courier_id</th>\n",
       "      <th>courier_location</th>\n",
       "      <th>availability</th>\n",
       "    </tr>\n",
       "  </thead>\n",
       "  <tbody>\n",
       "    <tr>\n",
       "      <th>0</th>\n",
       "      <td>COURIER00001</td>\n",
       "      <td>Hubli, 580032</td>\n",
       "      <td>True</td>\n",
       "    </tr>\n",
       "    <tr>\n",
       "      <th>1</th>\n",
       "      <td>COURIER00002</td>\n",
       "      <td>Gurgaon, 122005</td>\n",
       "      <td>False</td>\n",
       "    </tr>\n",
       "  </tbody>\n",
       "</table>\n",
       "</div>"
      ]
     },
     "metadata": {},
     "output_type": "display_data",
     "jetTransient": {
      "display_id": null
     }
    },
    {
     "name": "stdout",
     "output_type": "stream",
     "text": [
      "\n"
     ]
    }
   ],
   "execution_count": 8
  },
  {
   "cell_type": "code",
   "id": "ef7a9e4b2b1ac1ba",
   "metadata": {
    "ExecuteTime": {
     "end_time": "2025-09-11T10:16:06.991090Z",
     "start_time": "2025-09-11T10:16:06.971301Z"
    }
   },
   "source": [
    "schema_summary(df_external,'external')"
   ],
   "outputs": [
    {
     "name": "stdout",
     "output_type": "stream",
     "text": [
      "--- external --- (40000, 4)\n",
      "order_id             object\n",
      "weather_condition    object\n",
      "traffic_level        object\n",
      "event_date           object\n",
      "dtype: object\n",
      "Null %:\n",
      " {'order_id': 0.0, 'weather_condition': 0.0, 'traffic_level': 9.92, 'event_date': 0.0}\n"
     ]
    },
    {
     "data": {
      "text/plain": [
       "    order_id weather_condition traffic_level           event_date\n",
       "0  ORD000001             Foggy        Medium  2025-05-13 07:17:19\n",
       "1  ORD000002             Rainy          High  2025-09-16 17:18:16"
      ],
      "text/html": [
       "<div>\n",
       "<style scoped>\n",
       "    .dataframe tbody tr th:only-of-type {\n",
       "        vertical-align: middle;\n",
       "    }\n",
       "\n",
       "    .dataframe tbody tr th {\n",
       "        vertical-align: top;\n",
       "    }\n",
       "\n",
       "    .dataframe thead th {\n",
       "        text-align: right;\n",
       "    }\n",
       "</style>\n",
       "<table border=\"1\" class=\"dataframe\">\n",
       "  <thead>\n",
       "    <tr style=\"text-align: right;\">\n",
       "      <th></th>\n",
       "      <th>order_id</th>\n",
       "      <th>weather_condition</th>\n",
       "      <th>traffic_level</th>\n",
       "      <th>event_date</th>\n",
       "    </tr>\n",
       "  </thead>\n",
       "  <tbody>\n",
       "    <tr>\n",
       "      <th>0</th>\n",
       "      <td>ORD000001</td>\n",
       "      <td>Foggy</td>\n",
       "      <td>Medium</td>\n",
       "      <td>2025-05-13 07:17:19</td>\n",
       "    </tr>\n",
       "    <tr>\n",
       "      <th>1</th>\n",
       "      <td>ORD000002</td>\n",
       "      <td>Rainy</td>\n",
       "      <td>High</td>\n",
       "      <td>2025-09-16 17:18:16</td>\n",
       "    </tr>\n",
       "  </tbody>\n",
       "</table>\n",
       "</div>"
      ]
     },
     "metadata": {},
     "output_type": "display_data",
     "jetTransient": {
      "display_id": null
     }
    },
    {
     "name": "stdout",
     "output_type": "stream",
     "text": [
      "\n"
     ]
    }
   ],
   "execution_count": 9
  },
  {
   "cell_type": "code",
   "id": "4c7b2b00b48c0358",
   "metadata": {
    "ExecuteTime": {
     "end_time": "2025-09-11T10:16:07.252454Z",
     "start_time": "2025-09-11T10:16:07.236087Z"
    }
   },
   "source": [
    "logging.info(f\"Orders nulls: {df_orders.isnull().mean().to_dict()}\")"
   ],
   "outputs": [],
   "execution_count": 10
  },
  {
   "cell_type": "markdown",
   "id": "daa0e9facc4d8616",
   "metadata": {},
   "source": [
    "# Data Cleaning\n",
    "**Business Impact:**\n",
    "Reduces noise, ensures accurate KPI calculations, and avoids bias in the predictive model.\n"
   ]
  },
  {
   "cell_type": "markdown",
   "id": "c4858b4ca7388327",
   "metadata": {},
   "source": [
    "### 1. Convert all datetime columns to `datetime` objects.\n",
    "(`order_date`, `promised_slot_start`, etc.)"
   ]
  },
  {
   "cell_type": "code",
   "id": "7945b4749b784ca2",
   "metadata": {
    "ExecuteTime": {
     "end_time": "2025-09-11T10:16:07.560553Z",
     "start_time": "2025-09-11T10:16:07.407943Z"
    }
   },
   "source": [
    "# --- 3A: Datetime conversion (orders + external) ---\n",
    "date_cols_orders = ['order_date','promised_slot_start','promised_slot_end','actual_delivery_time']\n",
    "for c in date_cols_orders:\n",
    "    if c in df_orders.columns:\n",
    "        df_orders[c] = pd.to_datetime(df_orders[c], errors='coerce')\n",
    "\n",
    "if 'event_date' in df_external.columns:\n",
    "    df_external['event_date'] = pd.to_datetime(df_external['event_date'], errors='coerce')\n"
   ],
   "outputs": [],
   "execution_count": 11
  },
  {
   "cell_type": "markdown",
   "id": "99e97e35dce47ac3",
   "metadata": {},
   "source": [
    "### 2. Standardize customer locations using fuzzy matching and mapping CSV."
   ]
  },
  {
   "cell_type": "code",
   "id": "21761b76b8e3ea81",
   "metadata": {
    "ExecuteTime": {
     "end_time": "2025-09-11T10:16:07.840584Z",
     "start_time": "2025-09-11T10:16:07.577940Z"
    }
   },
   "source": [
    "# === 3B (REPLACE): Robust customer_location cleaning + pincode extraction + fuzzy normalization ===\n",
    "import re\n",
    "from difflib import get_close_matches\n",
    "\n",
    "# 1) canonical city list (add/remove as needed)\n",
    "canonical_cities = [\n",
    "    \"Agra\",\"Aligarh\",\"Allahabad\",\"Amritsar\",\"Aurangabad\",\"Bangalore\",\"Bhiwandi\",\"Bhopal\",\"Bhubaneswar\",\n",
    "    \"Chandigarh\",\"Chennai\",\"Coimbatore\",\"Delhi\",\"Dhanbad\",\"Faridabad\",\"Ghaziabad\",\"Guntur\",\"Gurgaon\",\n",
    "    \"Guwahati\",\"Gwalior\",\"Hubli\",\"Hyderabad\",\"Indore\",\"Jabalpur\",\"Jaipur\",\"Jalandhar\",\"Jodhpur\",\n",
    "    \"Kanpur\",\"Kolkata\",\"Kota\",\"Lucknow\",\"Ludhiana\",\"Madurai\",\"Meerut\",\"Mumbai\",\"Mysore\",\"Nagpur\",\n",
    "    \"Nashik\",\"Patna\",\"Pune\",\"Raipur\",\"Rajkot\",\"Ranchi\",\"Saharanpur\",\"Salem\",\"Solapur\",\"Surat\",\n",
    "    \"Srinagar\",\"Thane\",\"Tiruchirappalli\",\"Vadodara\",\"Varanasi\",\"Vijayawada\",\"Visakhapatnam\",\"Warangal\"\n",
    "]\n",
    "\n",
    "# helper: clean raw string (remove weird chars, multiple commas/spaces)\n",
    "def clean_raw_loc(s):\n",
    "    if pd.isna(s):\n",
    "        return \"\"\n",
    "    s = str(s)\n",
    "    # keep digits (pincode) for later extract\n",
    "    # remove leading/trailing whitespace and normalize commas/spaces\n",
    "    s = s.strip()\n",
    "    s = re.sub(r'\\s+', ' ', s)            # multiple spaces -> one\n",
    "    s = s.replace(' ,', ',').replace(', ', ', ').strip()\n",
    "    # remove stray non-alnum except comma and space\n",
    "    s = re.sub(r'[^A-Za-z0-9,\\s]', '', s)\n",
    "    return s\n",
    "\n",
    "# helper: extract pincode if present at end\n",
    "def extract_pincode(s):\n",
    "    m = re.search(r'(\\d{5,6})$', s)\n",
    "    return m.group(1) if m else np.nan\n",
    "\n",
    "# helper: try fuzzy match to canonical list\n",
    "def fuzzy_map_city(s, cutoff=0.75):\n",
    "    if not s:\n",
    "        return np.nan\n",
    "    # try exact match first (case-insensitive)\n",
    "    for c in canonical_cities:\n",
    "        if s.strip().lower() == c.lower():\n",
    "            return c\n",
    "    # try get_close_matches\n",
    "    candidates = get_close_matches(s, canonical_cities, n=1, cutoff=cutoff)\n",
    "    if candidates:\n",
    "        return candidates[0]\n",
    "    # try removing trailing single char noise (like Agra -> Agrb) by trying variations\n",
    "    if len(s) > 3:\n",
    "        for i in range(1,4):\n",
    "            cand = get_close_matches(s[:-i], canonical_cities, n=1, cutoff=cutoff)\n",
    "            if cand:\n",
    "                return cand[0]\n",
    "    # fallback: title-case the cleaned string and return (will need manual review)\n",
    "    return s.title()\n",
    "\n",
    "# Apply cleaning to df_customers (and also to df if you need to clean merged df later)\n",
    "if 'customer_location' in df_customers.columns:\n",
    "    # create a working raw column\n",
    "    df_customers['cust_loc_raw'] = df_customers['customer_location'].astype(str)\n",
    "    df_customers['cust_loc_clean'] = df_customers['cust_loc_raw'].apply(clean_raw_loc)\n",
    "    # extract pincode\n",
    "    df_customers['pincode'] = df_customers['cust_loc_clean'].apply(extract_pincode)\n",
    "    # drop pincode from text for mapping\n",
    "    df_customers['cust_loc_no_pin'] = df_customers['cust_loc_clean'].str.replace(r',?\\s*\\d{5,6}$','', regex=True).str.strip()\n",
    "    # normalize via fuzzy mapping\n",
    "    df_customers['city_normalized'] = df_customers['cust_loc_no_pin'].apply(lambda x: fuzzy_map_city(x, cutoff=0.78))\n",
    "\n",
    "    # show mapping sample and counts for manual review\n",
    "    mapping_preview = df_customers[['cust_loc_raw','cust_loc_clean','pincode','city_normalized']].sample(15, random_state=42)\n",
    "    display(mapping_preview)\n",
    "\n",
    "    # summarize how many mapped to canonical list vs left as-is\n",
    "    mapped_mask = df_customers['city_normalized'].isin(canonical_cities)\n",
    "    print('Total customers:', len(df_customers))\n",
    "    print('Mapped to canonical city:', mapped_mask.sum())\n",
    "    print('Not confidently mapped (needs review):', (~mapped_mask).sum())\n",
    "\n",
    "    # Save mapping CSV for manual inspection\n",
    "    df_customers[['cust_loc_raw','cust_loc_clean','pincode','city_normalized']].drop_duplicates().to_csv('Cleaned Data/customer_location_mapping.csv', index=False)\n",
    "    print('Saved mapping sample to Cleaned Data/customer_location_mapping.csv')\n",
    "\n",
    "\n",
    "    # create same-named column as used in downstream code (cust_customer_location)\n",
    "    df_customers['cust_customer_location'] = df_customers['city_normalized']\n",
    "\n",
    "else:\n",
    "    print('customer_location column not found in df_customers.')\n"
   ],
   "outputs": [
    {
     "data": {
      "text/plain": [
       "             cust_loc_raw       cust_loc_clean pincode city_normalized\n",
       "817        Guntur, 522015       Guntur, 522015  522015          Guntur\n",
       "8805     WARANGAL, 506007     WARANGAL, 506007  506007        Warangal\n",
       "8839     Srinagar, 190002     Srinagar, 190002  190002        Srinagar\n",
       "7479       Bhopal, 462032       Bhopal, 462032  462032          Bhopal\n",
       "2510       Rajkot, 360001       Rajkot, 360001  360001          Rajkot\n",
       "3341       Guntur, 522002       Guntur, 522002  522002          Guntur\n",
       "1116   Coimbatore, 641026   Coimbatore, 641026  641026      Coimbatore\n",
       "4382        DELHI, 110005        DELHI, 110005  110005           Delhi\n",
       "7551     Varanasi, 221010     Varanasi, 221010  221010        Varanasi\n",
       "6170      Chennai, 600031      Chennai, 600031  600031         Chennai\n",
       "4179   Chandigarh, 160037   Chandigarh, 160037  160037      Chandigarh\n",
       "3794  Bhubaneswar, 751029  Bhubaneswar, 751029  751029     Bhubaneswar\n",
       "8055      Jodhpur, 342004      Jodhpur, 342004  342004         Jodhpur\n",
       "6937       Jaipur, 302035       Jaipur, 302035  302035          Jaipur\n",
       "5514    Ghaziabad, 201015    Ghaziabad, 201015  201015       Ghaziabad"
      ],
      "text/html": [
       "<div>\n",
       "<style scoped>\n",
       "    .dataframe tbody tr th:only-of-type {\n",
       "        vertical-align: middle;\n",
       "    }\n",
       "\n",
       "    .dataframe tbody tr th {\n",
       "        vertical-align: top;\n",
       "    }\n",
       "\n",
       "    .dataframe thead th {\n",
       "        text-align: right;\n",
       "    }\n",
       "</style>\n",
       "<table border=\"1\" class=\"dataframe\">\n",
       "  <thead>\n",
       "    <tr style=\"text-align: right;\">\n",
       "      <th></th>\n",
       "      <th>cust_loc_raw</th>\n",
       "      <th>cust_loc_clean</th>\n",
       "      <th>pincode</th>\n",
       "      <th>city_normalized</th>\n",
       "    </tr>\n",
       "  </thead>\n",
       "  <tbody>\n",
       "    <tr>\n",
       "      <th>817</th>\n",
       "      <td>Guntur, 522015</td>\n",
       "      <td>Guntur, 522015</td>\n",
       "      <td>522015</td>\n",
       "      <td>Guntur</td>\n",
       "    </tr>\n",
       "    <tr>\n",
       "      <th>8805</th>\n",
       "      <td>WARANGAL, 506007</td>\n",
       "      <td>WARANGAL, 506007</td>\n",
       "      <td>506007</td>\n",
       "      <td>Warangal</td>\n",
       "    </tr>\n",
       "    <tr>\n",
       "      <th>8839</th>\n",
       "      <td>Srinagar, 190002</td>\n",
       "      <td>Srinagar, 190002</td>\n",
       "      <td>190002</td>\n",
       "      <td>Srinagar</td>\n",
       "    </tr>\n",
       "    <tr>\n",
       "      <th>7479</th>\n",
       "      <td>Bhopal, 462032</td>\n",
       "      <td>Bhopal, 462032</td>\n",
       "      <td>462032</td>\n",
       "      <td>Bhopal</td>\n",
       "    </tr>\n",
       "    <tr>\n",
       "      <th>2510</th>\n",
       "      <td>Rajkot, 360001</td>\n",
       "      <td>Rajkot, 360001</td>\n",
       "      <td>360001</td>\n",
       "      <td>Rajkot</td>\n",
       "    </tr>\n",
       "    <tr>\n",
       "      <th>3341</th>\n",
       "      <td>Guntur, 522002</td>\n",
       "      <td>Guntur, 522002</td>\n",
       "      <td>522002</td>\n",
       "      <td>Guntur</td>\n",
       "    </tr>\n",
       "    <tr>\n",
       "      <th>1116</th>\n",
       "      <td>Coimbatore, 641026</td>\n",
       "      <td>Coimbatore, 641026</td>\n",
       "      <td>641026</td>\n",
       "      <td>Coimbatore</td>\n",
       "    </tr>\n",
       "    <tr>\n",
       "      <th>4382</th>\n",
       "      <td>DELHI, 110005</td>\n",
       "      <td>DELHI, 110005</td>\n",
       "      <td>110005</td>\n",
       "      <td>Delhi</td>\n",
       "    </tr>\n",
       "    <tr>\n",
       "      <th>7551</th>\n",
       "      <td>Varanasi, 221010</td>\n",
       "      <td>Varanasi, 221010</td>\n",
       "      <td>221010</td>\n",
       "      <td>Varanasi</td>\n",
       "    </tr>\n",
       "    <tr>\n",
       "      <th>6170</th>\n",
       "      <td>Chennai, 600031</td>\n",
       "      <td>Chennai, 600031</td>\n",
       "      <td>600031</td>\n",
       "      <td>Chennai</td>\n",
       "    </tr>\n",
       "    <tr>\n",
       "      <th>4179</th>\n",
       "      <td>Chandigarh, 160037</td>\n",
       "      <td>Chandigarh, 160037</td>\n",
       "      <td>160037</td>\n",
       "      <td>Chandigarh</td>\n",
       "    </tr>\n",
       "    <tr>\n",
       "      <th>3794</th>\n",
       "      <td>Bhubaneswar, 751029</td>\n",
       "      <td>Bhubaneswar, 751029</td>\n",
       "      <td>751029</td>\n",
       "      <td>Bhubaneswar</td>\n",
       "    </tr>\n",
       "    <tr>\n",
       "      <th>8055</th>\n",
       "      <td>Jodhpur, 342004</td>\n",
       "      <td>Jodhpur, 342004</td>\n",
       "      <td>342004</td>\n",
       "      <td>Jodhpur</td>\n",
       "    </tr>\n",
       "    <tr>\n",
       "      <th>6937</th>\n",
       "      <td>Jaipur, 302035</td>\n",
       "      <td>Jaipur, 302035</td>\n",
       "      <td>302035</td>\n",
       "      <td>Jaipur</td>\n",
       "    </tr>\n",
       "    <tr>\n",
       "      <th>5514</th>\n",
       "      <td>Ghaziabad, 201015</td>\n",
       "      <td>Ghaziabad, 201015</td>\n",
       "      <td>201015</td>\n",
       "      <td>Ghaziabad</td>\n",
       "    </tr>\n",
       "  </tbody>\n",
       "</table>\n",
       "</div>"
      ]
     },
     "metadata": {},
     "output_type": "display_data",
     "jetTransient": {
      "display_id": null
     }
    },
    {
     "name": "stdout",
     "output_type": "stream",
     "text": [
      "Total customers: 9469\n",
      "Mapped to canonical city: 9420\n",
      "Not confidently mapped (needs review): 49\n",
      "Saved mapping sample to Cleaned Data/customer_location_mapping.csv\n"
     ]
    }
   ],
   "execution_count": 12
  },
  {
   "cell_type": "markdown",
   "id": "3dd5d188581f55f",
   "metadata": {},
   "source": [
    "### 3. Handle missing values:\n",
    "   - Median imputation for `stock_level` and `actual_delivery_time`\n",
    "   - Mode/median for `traffic_level` and `cour_availability`"
   ]
  },
  {
   "cell_type": "code",
   "id": "7eb2fc671175bbc4",
   "metadata": {
    "ExecuteTime": {
     "end_time": "2025-09-11T10:16:08.040112Z",
     "start_time": "2025-09-11T10:16:08.016157Z"
    }
   },
   "source": [
    "# --- 3C: Null handling rules ---\n",
    "if 'delivery_status' in df_orders.columns:\n",
    "    print('\\nDelivery status counts:')\n",
    "    print(df_orders['delivery_status'].value_counts(dropna=False))\n",
    "\n",
    "missing_act_delivered = 0\n",
    "if 'delivery_status' in df_orders.columns and 'actual_delivery_time' in df_orders.columns:\n",
    "    missing_act_delivered = df_orders.loc[(df_orders['delivery_status']=='delivered') & df_orders['actual_delivery_time'].isna()].shape[0]\n",
    "    print('Delivered rows with missing actual_delivery_time:', missing_act_delivered)\n"
   ],
   "outputs": [
    {
     "name": "stdout",
     "output_type": "stream",
     "text": [
      "\n",
      "Delivery status counts:\n",
      "delivery_status\n",
      "Delivered    17301\n",
      "Missed        5740\n",
      "Name: count, dtype: int64\n",
      "Delivered rows with missing actual_delivery_time: 0\n"
     ]
    }
   ],
   "execution_count": 13
  },
  {
   "cell_type": "code",
   "id": "56753c8ec0776b6b",
   "metadata": {
    "ExecuteTime": {
     "end_time": "2025-09-11T10:16:08.125883Z",
     "start_time": "2025-09-11T10:16:08.099134Z"
    }
   },
   "source": [
    "# Inventory\n",
    "if 'stock_level' in df_inventory.columns:\n",
    "    df_inventory['stock_level'] = pd.to_numeric(df_inventory['stock_level'], errors='coerce')\n",
    "    df_inventory['stock_level'] = df_inventory['stock_level'].fillna(df_inventory['stock_level'].median())"
   ],
   "outputs": [],
   "execution_count": 14
  },
  {
   "cell_type": "code",
   "id": "227ae228e6004e2e",
   "metadata": {
    "ExecuteTime": {
     "end_time": "2025-09-11T10:16:08.149053Z",
     "start_time": "2025-09-11T10:16:08.137510Z"
    }
   },
   "source": [
    "# Couriers\n",
    "if 'availability' in df_couriers.columns:\n",
    "    df_couriers['availability'] = df_couriers['availability'].astype(bool)\n",
    "    df_couriers['availability'] = df_couriers['availability'].fillna(df_couriers['availability'].median())"
   ],
   "outputs": [],
   "execution_count": 15
  },
  {
   "cell_type": "code",
   "id": "bbbc306288df333c",
   "metadata": {
    "ExecuteTime": {
     "end_time": "2025-09-11T10:16:08.264703Z",
     "start_time": "2025-09-11T10:16:08.174144Z"
    }
   },
   "source": [
    "# External\n",
    "if 'traffic_level' in df_external.columns:\n",
    "    df_external['traffic_level'] = pd.to_numeric(df_external['traffic_level'], errors='coerce')\n",
    "    if df_external['traffic_level'].isna().any():\n",
    "        mode_vals = df_external['traffic_level'].mode()\n",
    "        if not mode_vals.empty:\n",
    "            df_external['traffic_level'] = df_external['traffic_level'].fillna(mode_vals.iloc[0])\n",
    "        else:\n",
    "            median_val = df_external['traffic_level'].median(skipna=True)\n",
    "            if pd.isna(median_val):\n",
    "                median_val = 0\n",
    "            df_external['traffic_level'] = df_external['traffic_level'].fillna(median_val)\n",
    "\n",
    "print('\\nCleaning complete. Quick null % after fills:')\n",
    "print((df_orders.isnull().mean()*100).round(2))"
   ],
   "outputs": [
    {
     "name": "stdout",
     "output_type": "stream",
     "text": [
      "\n",
      "Cleaning complete. Quick null % after fills:\n",
      "order_id                0.00\n",
      "customer_id             0.00\n",
      "order_date              0.00\n",
      "order_value             0.00\n",
      "order_size              0.00\n",
      "delivery_preference     0.00\n",
      "promised_slot_start     0.00\n",
      "promised_slot_end       0.00\n",
      "actual_delivery_time    9.68\n",
      "delivery_status         0.00\n",
      "courier_id              0.00\n",
      "warehouse_id            0.00\n",
      "churn_indicator         0.00\n",
      "dtype: float64\n"
     ]
    },
    {
     "name": "stderr",
     "output_type": "stream",
     "text": [
      "C:\\Users\\Hydra\\AppData\\Local\\Programs\\Python\\Python313\\Lib\\site-packages\\numpy\\lib\\_nanfunctions_impl.py:1214: RuntimeWarning: Mean of empty slice\n",
      "  return np.nanmean(a, axis, out=out, keepdims=keepdims)\n"
     ]
    }
   ],
   "execution_count": 16
  },
  {
   "cell_type": "markdown",
   "id": "e097d4e6502b3ca4",
   "metadata": {},
   "source": [
    "### Build Labels: delay_minutes & on_time\n",
    "- Create target variable:\n",
    "  - `delay_minutes` = Actual delivery time - Promised delivery time\n",
    "  - `on_time` = 1 if `delay_minutes` <= 0 else 0\n",
    "- Add temporal features: `day_of_week`, `hour_of_day`, `month`\n",
    "- Encode categorical variables (`traffic_level`, `is_weekend`) for modeling\n",
    "- Interaction features:\n",
    "  - `value_traffic` = `order_value` * `ext_traffic_High`\n",
    "- Prepare simulation variables (`cour_availability_sim`, `pred_miss`)\n",
    "\n",
    "**Business Impact:**\n",
    "Improves model interpretability and prediction accuracy for slot optimization.\n"
   ]
  },
  {
   "cell_type": "code",
   "id": "6d539f19aadc31bc",
   "metadata": {
    "ExecuteTime": {
     "end_time": "2025-09-11T10:16:08.335264Z",
     "start_time": "2025-09-11T10:16:08.280690Z"
    }
   },
   "source": [
    "# ensure delivery_status standardized\n",
    "if 'delivery_status' in df_orders.columns:\n",
    "    non_delivered_mask = df_orders['delivery_status'].ne('Delivered')\n",
    "    df_orders.loc[non_delivered_mask, 'actual_delivery_time'] = pd.NaT\n",
    "\n",
    "# Impute missing actual_delivery_time for delivered orders\n",
    "delivered_mask = df_orders['delivery_status'].eq('Delivered')\n",
    "mask_missing = delivered_mask & df_orders['actual_delivery_time'].isna()\n",
    "if mask_missing.any():\n",
    "    pos_delay = (\n",
    "        df_orders.loc[delivered_mask & df_orders['actual_delivery_time'].notna(), 'actual_delivery_time']\n",
    "        - df_orders.loc[delivered_mask & df_orders['actual_delivery_time'].notna(), 'promised_slot_end']\n",
    "    ).dt.total_seconds() / 60.0\n",
    "    pos_delay = pos_delay[pos_delay > 0]\n",
    "    median_delay = pos_delay.median() if not pos_delay.empty else 0\n",
    "    df_orders.loc[mask_missing, 'actual_delivery_time'] = (\n",
    "        df_orders.loc[mask_missing, 'promised_slot_end'] + pd.to_timedelta(median_delay, unit='m')\n",
    "    )\n",
    "\n",
    "# Create labels\n",
    "df_orders['delay_minutes'] = (\n",
    "    (df_orders['actual_delivery_time'] - df_orders['promised_slot_end']).dt.total_seconds() / 60.0\n",
    ")\n",
    "df_orders['on_time'] = (df_orders['delay_minutes'] <= 0).astype(int)\n",
    "\n",
    "print(\"Total orders:\", len(df_orders))\n",
    "print(\"Delivered orders:\", delivered_mask.sum())\n",
    "print(\"On-time % (delivered only):\", df_orders.loc[delivered_mask, 'on_time'].mean() * 100)\n"
   ],
   "outputs": [
    {
     "name": "stdout",
     "output_type": "stream",
     "text": [
      "Total orders: 23041\n",
      "Delivered orders: 17301\n",
      "On-time % (delivered only): 15.548234206115252\n"
     ]
    }
   ],
   "execution_count": 17
  },
  {
   "cell_type": "code",
   "id": "15eaf82ee3cc98a7",
   "metadata": {
    "ExecuteTime": {
     "end_time": "2025-09-11T10:16:09.440224Z",
     "start_time": "2025-09-11T10:16:08.363838Z"
    }
   },
   "source": [
    "# Fuzzy city mapping to select best cutoff\n",
    "cutoffs = [0.7, 0.75, 0.8, 0.85, 0.9]\n",
    "best_cutoff = None\n",
    "best_mapped = 0\n",
    "\n",
    "for cutoff in cutoffs:\n",
    "    df_customers['city_test'] = df_customers['cust_loc_no_pin'].apply(lambda x: fuzzy_map_city(x, cutoff))\n",
    "    mapped = df_customers['city_test'].isin(canonical_cities).sum()\n",
    "    logging.info(f\"Cutoff {cutoff}: {mapped} cities mapped\")\n",
    "    if mapped > best_mapped:\n",
    "        best_mapped = mapped\n",
    "        best_cutoff = cutoff\n",
    "\n",
    "df_customers['city_normalized'] = df_customers['cust_loc_no_pin'].apply(lambda x: fuzzy_map_city(x, best_cutoff))\n",
    "df_customers.drop(columns=['city_test'], inplace=True)\n",
    "logging.info(f\"Best cutoff selected: {best_cutoff}\")\n"
   ],
   "outputs": [],
   "execution_count": 18
  },
  {
   "cell_type": "markdown",
   "id": "12ff62b6a25056b",
   "metadata": {},
   "source": [
    "## Join datasets to make a master feature table"
   ]
  },
  {
   "cell_type": "code",
   "id": "cfedd33b0bfbdcf5",
   "metadata": {
    "ExecuteTime": {
     "end_time": "2025-09-11T10:16:10.831790Z",
     "start_time": "2025-09-11T10:16:10.696604Z"
    }
   },
   "source": [
    "df = df_orders.copy()\n",
    "\n",
    "if 'customer_id' in df.columns and not df_customers.empty:\n",
    "    df = df.merge(df_customers.add_prefix('cust_'), left_on='customer_id', right_on='cust_customer_id', how='left')\n",
    "\n",
    "if 'warehouse_id' in df.columns and not df_inventory.empty:\n",
    "    df = df.merge(df_inventory.add_prefix('inv_'), left_on='warehouse_id', right_on='inv_warehouse_id', how='left')\n",
    "\n",
    "if 'courier_id' in df.columns and not df_couriers.empty:\n",
    "    df = df.merge(df_couriers.add_prefix('cour_'), left_on='courier_id', right_on='cour_courier_id', how='left')\n",
    "\n",
    "if not df_external.empty:\n",
    "    if 'order_id' in df_external.columns and 'order_id' in df.columns:\n",
    "        df = df.merge(df_external.add_prefix('ext_'), left_on='order_id', right_on='ext_order_id', how='left')\n",
    "\n",
    "print('Master table shape:', df.shape)\n",
    "display(df.head(3))\n"
   ],
   "outputs": [
    {
     "name": "stdout",
     "output_type": "stream",
     "text": [
      "Master table shape: (23041, 34)\n"
     ]
    },
    {
     "data": {
      "text/plain": [
       "    order_id customer_id          order_date  order_value  order_size  \\\n",
       "0  ORD000001   CUST00938 2024-06-08 20:18:23      2365.36           3   \n",
       "1  ORD000002   CUST04967 2025-06-15 02:36:31    148749.76           4   \n",
       "2  ORD000003   CUST00925 2024-11-04 14:24:56      9566.83           2   \n",
       "\n",
       "  delivery_preference promised_slot_start   promised_slot_end  \\\n",
       "0             Evening 2024-06-11 03:18:23 2024-06-11 05:18:23   \n",
       "1             Evening 2025-06-17 18:36:31 2025-06-17 20:36:31   \n",
       "2           Afternoon 2024-11-07 05:24:56 2024-11-07 07:24:56   \n",
       "\n",
       "  actual_delivery_time delivery_status  ... inv_warehouse_id inv_stock_level  \\\n",
       "0  2024-06-11 07:33:23       Delivered  ...           WH0258           224.0   \n",
       "1  2025-06-17 20:31:31       Delivered  ...           WH0563           163.0   \n",
       "2  2024-11-07 09:54:56       Delivered  ...           WH0324           121.0   \n",
       "\n",
       "   inv_warehouse_location  cour_courier_id  cour_courier_location  \\\n",
       "0        Ludhiana, 141012     COURIER01626       warangal, 506009   \n",
       "1          Nashik, 422003     COURIER01313         Raipur, 492004   \n",
       "2       Allahabad, 211012     COURIER01998      Allahabad, 211008   \n",
       "\n",
       "  cour_availability ext_order_id ext_weather_condition ext_traffic_level  \\\n",
       "0              True    ORD000001                 Foggy               0.0   \n",
       "1             False    ORD000002                 Rainy               0.0   \n",
       "2             False    ORD000003                 Rainy               0.0   \n",
       "\n",
       "       ext_event_date  \n",
       "0 2025-05-13 07:17:19  \n",
       "1 2025-09-16 17:18:16  \n",
       "2 2024-01-07 15:58:08  \n",
       "\n",
       "[3 rows x 34 columns]"
      ],
      "text/html": [
       "<div>\n",
       "<style scoped>\n",
       "    .dataframe tbody tr th:only-of-type {\n",
       "        vertical-align: middle;\n",
       "    }\n",
       "\n",
       "    .dataframe tbody tr th {\n",
       "        vertical-align: top;\n",
       "    }\n",
       "\n",
       "    .dataframe thead th {\n",
       "        text-align: right;\n",
       "    }\n",
       "</style>\n",
       "<table border=\"1\" class=\"dataframe\">\n",
       "  <thead>\n",
       "    <tr style=\"text-align: right;\">\n",
       "      <th></th>\n",
       "      <th>order_id</th>\n",
       "      <th>customer_id</th>\n",
       "      <th>order_date</th>\n",
       "      <th>order_value</th>\n",
       "      <th>order_size</th>\n",
       "      <th>delivery_preference</th>\n",
       "      <th>promised_slot_start</th>\n",
       "      <th>promised_slot_end</th>\n",
       "      <th>actual_delivery_time</th>\n",
       "      <th>delivery_status</th>\n",
       "      <th>...</th>\n",
       "      <th>inv_warehouse_id</th>\n",
       "      <th>inv_stock_level</th>\n",
       "      <th>inv_warehouse_location</th>\n",
       "      <th>cour_courier_id</th>\n",
       "      <th>cour_courier_location</th>\n",
       "      <th>cour_availability</th>\n",
       "      <th>ext_order_id</th>\n",
       "      <th>ext_weather_condition</th>\n",
       "      <th>ext_traffic_level</th>\n",
       "      <th>ext_event_date</th>\n",
       "    </tr>\n",
       "  </thead>\n",
       "  <tbody>\n",
       "    <tr>\n",
       "      <th>0</th>\n",
       "      <td>ORD000001</td>\n",
       "      <td>CUST00938</td>\n",
       "      <td>2024-06-08 20:18:23</td>\n",
       "      <td>2365.36</td>\n",
       "      <td>3</td>\n",
       "      <td>Evening</td>\n",
       "      <td>2024-06-11 03:18:23</td>\n",
       "      <td>2024-06-11 05:18:23</td>\n",
       "      <td>2024-06-11 07:33:23</td>\n",
       "      <td>Delivered</td>\n",
       "      <td>...</td>\n",
       "      <td>WH0258</td>\n",
       "      <td>224.0</td>\n",
       "      <td>Ludhiana, 141012</td>\n",
       "      <td>COURIER01626</td>\n",
       "      <td>warangal, 506009</td>\n",
       "      <td>True</td>\n",
       "      <td>ORD000001</td>\n",
       "      <td>Foggy</td>\n",
       "      <td>0.0</td>\n",
       "      <td>2025-05-13 07:17:19</td>\n",
       "    </tr>\n",
       "    <tr>\n",
       "      <th>1</th>\n",
       "      <td>ORD000002</td>\n",
       "      <td>CUST04967</td>\n",
       "      <td>2025-06-15 02:36:31</td>\n",
       "      <td>148749.76</td>\n",
       "      <td>4</td>\n",
       "      <td>Evening</td>\n",
       "      <td>2025-06-17 18:36:31</td>\n",
       "      <td>2025-06-17 20:36:31</td>\n",
       "      <td>2025-06-17 20:31:31</td>\n",
       "      <td>Delivered</td>\n",
       "      <td>...</td>\n",
       "      <td>WH0563</td>\n",
       "      <td>163.0</td>\n",
       "      <td>Nashik, 422003</td>\n",
       "      <td>COURIER01313</td>\n",
       "      <td>Raipur, 492004</td>\n",
       "      <td>False</td>\n",
       "      <td>ORD000002</td>\n",
       "      <td>Rainy</td>\n",
       "      <td>0.0</td>\n",
       "      <td>2025-09-16 17:18:16</td>\n",
       "    </tr>\n",
       "    <tr>\n",
       "      <th>2</th>\n",
       "      <td>ORD000003</td>\n",
       "      <td>CUST00925</td>\n",
       "      <td>2024-11-04 14:24:56</td>\n",
       "      <td>9566.83</td>\n",
       "      <td>2</td>\n",
       "      <td>Afternoon</td>\n",
       "      <td>2024-11-07 05:24:56</td>\n",
       "      <td>2024-11-07 07:24:56</td>\n",
       "      <td>2024-11-07 09:54:56</td>\n",
       "      <td>Delivered</td>\n",
       "      <td>...</td>\n",
       "      <td>WH0324</td>\n",
       "      <td>121.0</td>\n",
       "      <td>Allahabad, 211012</td>\n",
       "      <td>COURIER01998</td>\n",
       "      <td>Allahabad, 211008</td>\n",
       "      <td>False</td>\n",
       "      <td>ORD000003</td>\n",
       "      <td>Rainy</td>\n",
       "      <td>0.0</td>\n",
       "      <td>2024-01-07 15:58:08</td>\n",
       "    </tr>\n",
       "  </tbody>\n",
       "</table>\n",
       "<p>3 rows × 34 columns</p>\n",
       "</div>"
      ]
     },
     "metadata": {},
     "output_type": "display_data",
     "jetTransient": {
      "display_id": null
     }
    }
   ],
   "execution_count": 19
  },
  {
   "cell_type": "markdown",
   "id": "f1c053cceaf03e95",
   "metadata": {},
   "source": [
    "## 6) Exploratory Data Analysis (EDA)\n",
    "\n",
    "Key steps:\n",
    "- Calculate KPIs: on-time rate, average delay, top/bottom performing locations\n",
    "- Pivot tables for city × time-slot performance\n",
    "- Visualizations:\n",
    "  - Heatmaps of on-time rate per city and time slot\n",
    "  - Delay distribution plots\n",
    "  - Time-series trends (month-wise on-time delivery)\n",
    "\n",
    "**Business Impact:**\n",
    "Identifies bottlenecks and informs data-driven operational decisions.\n"
   ]
  },
  {
   "cell_type": "code",
   "id": "8401de19e73010d4",
   "metadata": {
    "ExecuteTime": {
     "end_time": "2025-09-11T10:16:10.944555Z",
     "start_time": "2025-09-11T10:16:10.912569Z"
    }
   },
   "source": [
    "df['delivery_status'] = df['delivery_status'].str.lower()\n",
    "total_orders = len(df)\n",
    "delivered = df['delivery_status'].eq('delivered').sum()\n",
    "on_time_rate = df.loc[df['delivery_status']=='delivered','on_time'].mean()\n",
    "avg_delay = df.loc[df['delivery_status']=='delivered','delay_minutes'].mean()\n",
    "\n",
    "print(f\"Total: {total_orders}, Delivered: {delivered}, On-time rate: {on_time_rate:.4f}, Avg delay: {avg_delay:.1f} mins\")\n"
   ],
   "outputs": [
    {
     "name": "stdout",
     "output_type": "stream",
     "text": [
      "Total: 23041, Delivered: 17301, On-time rate: 0.1555, Avg delay: 122.8 mins\n"
     ]
    }
   ],
   "execution_count": 20
  },
  {
   "cell_type": "code",
   "id": "7851a362a6415bfb",
   "metadata": {
    "ExecuteTime": {
     "end_time": "2025-09-11T10:16:12.022258Z",
     "start_time": "2025-09-11T10:16:11.229525Z"
    }
   },
   "source": [
    "df['rolling_delay_avg'] = df.groupby('cust_customer_location')['delay_minutes'].transform(\n",
    "    lambda x: x.rolling(window=7, min_periods=1).mean()\n",
    ")"
   ],
   "outputs": [],
   "execution_count": 21
  },
  {
   "cell_type": "code",
   "id": "37279a3c01683bd",
   "metadata": {
    "ExecuteTime": {
     "end_time": "2025-09-11T10:16:12.157645Z",
     "start_time": "2025-09-11T10:16:12.149456Z"
    }
   },
   "source": [
    "if 'weather_condition' in df_external.columns:\n",
    "    df_external['weather_severe'] = df_external['weather_condition'].isin(['Heavy Rain', 'Storm']).astype(int)"
   ],
   "outputs": [],
   "execution_count": 22
  },
  {
   "cell_type": "code",
   "id": "9f4e3cec16117558",
   "metadata": {
    "ExecuteTime": {
     "end_time": "2025-09-11T10:16:12.713439Z",
     "start_time": "2025-09-11T10:16:12.172419Z"
    }
   },
   "source": [
    "# delay distribution (observed only)\n",
    "plt.figure(figsize=(9,4))\n",
    "ser = df.loc[df['delivery_status']=='delivered','delay_minutes'].dropna()\n",
    "plt.hist(ser, bins=80)\n",
    "plt.xlim(ser.quantile(0.01), ser.quantile(0.99))\n",
    "plt.title('Delay distribution (observed delivered)')\n",
    "plt.xlabel('Delay minutes'); plt.ylabel('count')\n",
    "plt.tight_layout(); plt.savefig('Cleaned Data/plots/delay_dist_observed.png', dpi=150); plt.show()"
   ],
   "outputs": [
    {
     "data": {
      "text/plain": [
       "<Figure size 900x400 with 1 Axes>"
      ],
      "image/png": "[encoded data removed]"
     },
     "metadata": {},
     "output_type": "display_data",
     "jetTransient": {
      "display_id": null
     }
    }
   ],
   "execution_count": 23
  },
  {
   "cell_type": "markdown",
   "id": "f6b1e949028b8cdc",
   "metadata": {},
   "source": [
    "Delay Distribution--\n",
    "\n",
    "What it shows: How many orders are delivered late or early, measured in minutes.\n",
    "\n",
    "Interpretation:\n",
    "\n",
    "X-axis = delay time in minutes.\n",
    "\n",
    "Y-axis = number of orders with that delay."
   ]
  },
  {
   "cell_type": "code",
   "id": "abf32d1e532b7776",
   "metadata": {
    "ExecuteTime": {
     "end_time": "2025-09-11T10:16:14.018544Z",
     "start_time": "2025-09-11T10:16:12.748225Z"
    }
   },
   "source": [
    "# prepare pivot for on_time heatmap (city x slot)\n",
    "if 'cust_customer_location' in df.columns and 'delivery_preference' in df.columns:\n",
    "    pivot = df.loc[df['delivery_status']=='delivered'].pivot_table(index='cust_customer_location', columns='delivery_preference', values='on_time', aggfunc='mean')\n",
    "    pivot = pivot.sort_values(by=list(pivot.columns), ascending=False).fillna(np.nan)\n",
    "    pivot.to_csv('Cleaned Data/on_time_pivot.csv')\n",
    "    plt.figure(figsize=(10,8))\n",
    "    sns.heatmap(pivot, cmap='coolwarm', vmin=0, vmax=1)\n",
    "    plt.title('On-time rate: city x slot')\n",
    "    plt.tight_layout(); plt.savefig('Cleaned Data/plots/on_time_heatmap.png', dpi=150); plt.show()"
   ],
   "outputs": [
    {
     "data": {
      "text/plain": [
       "<Figure size 1000x800 with 2 Axes>"
      ],
      "image/png": "[encoded data removed]"
     },
     "metadata": {},
     "output_type": "display_data",
     "jetTransient": {
      "display_id": null
     }
    }
   ],
   "execution_count": 24
  },
  {
   "cell_type": "markdown",
   "id": "a31cf13c81304c53",
   "metadata": {},
   "source": [
    "Pivot for On-Time Heatmap (City × Slot)--\n",
    "\n",
    "This heatmap shows on-time delivery rates across different cities and time slots.\n",
    "- **Red = higher on-time %**\n",
    "- **Blue = lower on-time %**\n",
    "- Rows = different cities/pincodes.\n",
    "- Columns = Morning / Afternoon / Evening delivery slot."
   ]
  },
  {
   "cell_type": "code",
   "id": "15bbd6794fdbbce",
   "metadata": {
    "ExecuteTime": {
     "end_time": "2025-09-11T10:16:14.207246Z",
     "start_time": "2025-09-11T10:16:14.164051Z"
    }
   },
   "source": [
    "# top worst/ the best locations with counts\n",
    "if 'cust_customer_location' in df.columns:\n",
    "    loc = df.loc[df['delivery_status']=='delivered'].groupby('cust_customer_location').agg(on_time=('on_time','mean'), n=('order_id','count')).reset_index()\n",
    "    worst = loc.sort_values(['on_time','n']).head(10)\n",
    "    best = loc.sort_values(['on_time','n'], ascending=[False,False]).head(10)"
   ],
   "outputs": [],
   "execution_count": 25
  },
  {
   "cell_type": "code",
   "id": "ec21c772c2159a63",
   "metadata": {
    "ExecuteTime": {
     "end_time": "2025-09-11T10:16:14.241998Z",
     "start_time": "2025-09-11T10:16:14.231649Z"
    }
   },
   "source": [
    "print(\"Worst locations (on_time, count):\"); display(worst)"
   ],
   "outputs": [
    {
     "name": "stdout",
     "output_type": "stream",
     "text": [
      "Worst locations (on_time, count):\n"
     ]
    },
    {
     "data": {
      "text/plain": [
       "   cust_customer_location  on_time  n\n",
       "0            AGRA, 282002      0.0  1\n",
       "5       ALLAHABAD, 211005      0.0  1\n",
       "8        AMRITSAR, 143001      0.0  1\n",
       "12     AURANGABAD, 431004      0.0  1\n",
       "14     AURANGABAD, 431010      0.0  1\n",
       "17          Agra , 282003      0.0  1\n",
       "20          Agra , 282007      0.0  1\n",
       "22          Agra , 282010      0.0  1\n",
       "34           Agrc, 282005      0.0  1\n",
       "38        Aligarc, 202001      0.0  1"
      ],
      "text/html": [
       "<div>\n",
       "<style scoped>\n",
       "    .dataframe tbody tr th:only-of-type {\n",
       "        vertical-align: middle;\n",
       "    }\n",
       "\n",
       "    .dataframe tbody tr th {\n",
       "        vertical-align: top;\n",
       "    }\n",
       "\n",
       "    .dataframe thead th {\n",
       "        text-align: right;\n",
       "    }\n",
       "</style>\n",
       "<table border=\"1\" class=\"dataframe\">\n",
       "  <thead>\n",
       "    <tr style=\"text-align: right;\">\n",
       "      <th></th>\n",
       "      <th>cust_customer_location</th>\n",
       "      <th>on_time</th>\n",
       "      <th>n</th>\n",
       "    </tr>\n",
       "  </thead>\n",
       "  <tbody>\n",
       "    <tr>\n",
       "      <th>0</th>\n",
       "      <td>AGRA, 282002</td>\n",
       "      <td>0.0</td>\n",
       "      <td>1</td>\n",
       "    </tr>\n",
       "    <tr>\n",
       "      <th>5</th>\n",
       "      <td>ALLAHABAD, 211005</td>\n",
       "      <td>0.0</td>\n",
       "      <td>1</td>\n",
       "    </tr>\n",
       "    <tr>\n",
       "      <th>8</th>\n",
       "      <td>AMRITSAR, 143001</td>\n",
       "      <td>0.0</td>\n",
       "      <td>1</td>\n",
       "    </tr>\n",
       "    <tr>\n",
       "      <th>12</th>\n",
       "      <td>AURANGABAD, 431004</td>\n",
       "      <td>0.0</td>\n",
       "      <td>1</td>\n",
       "    </tr>\n",
       "    <tr>\n",
       "      <th>14</th>\n",
       "      <td>AURANGABAD, 431010</td>\n",
       "      <td>0.0</td>\n",
       "      <td>1</td>\n",
       "    </tr>\n",
       "    <tr>\n",
       "      <th>17</th>\n",
       "      <td>Agra , 282003</td>\n",
       "      <td>0.0</td>\n",
       "      <td>1</td>\n",
       "    </tr>\n",
       "    <tr>\n",
       "      <th>20</th>\n",
       "      <td>Agra , 282007</td>\n",
       "      <td>0.0</td>\n",
       "      <td>1</td>\n",
       "    </tr>\n",
       "    <tr>\n",
       "      <th>22</th>\n",
       "      <td>Agra , 282010</td>\n",
       "      <td>0.0</td>\n",
       "      <td>1</td>\n",
       "    </tr>\n",
       "    <tr>\n",
       "      <th>34</th>\n",
       "      <td>Agrc, 282005</td>\n",
       "      <td>0.0</td>\n",
       "      <td>1</td>\n",
       "    </tr>\n",
       "    <tr>\n",
       "      <th>38</th>\n",
       "      <td>Aligarc, 202001</td>\n",
       "      <td>0.0</td>\n",
       "      <td>1</td>\n",
       "    </tr>\n",
       "  </tbody>\n",
       "</table>\n",
       "</div>"
      ]
     },
     "metadata": {},
     "output_type": "display_data",
     "jetTransient": {
      "display_id": null
     }
    }
   ],
   "execution_count": 26
  },
  {
   "cell_type": "code",
   "id": "e1b108ccf7c06d3f",
   "metadata": {
    "ExecuteTime": {
     "end_time": "2025-09-11T10:16:14.305125Z",
     "start_time": "2025-09-11T10:16:14.288408Z"
    }
   },
   "source": [
    " print(\"Best locations (on_time, count):\"); display(best)"
   ],
   "outputs": [
    {
     "name": "stdout",
     "output_type": "stream",
     "text": [
      "Best locations (on_time, count):\n"
     ]
    },
    {
     "data": {
      "text/plain": [
       "     cust_customer_location  on_time  n\n",
       "889        Guwahati, 781018      1.0  3\n",
       "349      CHANDIGARH, 160026      1.0  2\n",
       "703          GUNTUR, 522001      1.0  2\n",
       "847         Gurgaon, 122014      1.0  2\n",
       "962          Hoobli, 580029      1.0  2\n",
       "1021     Hyderabad , 500014      1.0  2\n",
       "1366        Kanpur , 208021      1.0  2\n",
       "2554     chandigarh, 160003      1.0  2\n",
       "2563        chennai, 600030      1.0  2\n",
       "2643      jalandhar, 144022      1.0  2"
      ],
      "text/html": [
       "<div>\n",
       "<style scoped>\n",
       "    .dataframe tbody tr th:only-of-type {\n",
       "        vertical-align: middle;\n",
       "    }\n",
       "\n",
       "    .dataframe tbody tr th {\n",
       "        vertical-align: top;\n",
       "    }\n",
       "\n",
       "    .dataframe thead th {\n",
       "        text-align: right;\n",
       "    }\n",
       "</style>\n",
       "<table border=\"1\" class=\"dataframe\">\n",
       "  <thead>\n",
       "    <tr style=\"text-align: right;\">\n",
       "      <th></th>\n",
       "      <th>cust_customer_location</th>\n",
       "      <th>on_time</th>\n",
       "      <th>n</th>\n",
       "    </tr>\n",
       "  </thead>\n",
       "  <tbody>\n",
       "    <tr>\n",
       "      <th>889</th>\n",
       "      <td>Guwahati, 781018</td>\n",
       "      <td>1.0</td>\n",
       "      <td>3</td>\n",
       "    </tr>\n",
       "    <tr>\n",
       "      <th>349</th>\n",
       "      <td>CHANDIGARH, 160026</td>\n",
       "      <td>1.0</td>\n",
       "      <td>2</td>\n",
       "    </tr>\n",
       "    <tr>\n",
       "      <th>703</th>\n",
       "      <td>GUNTUR, 522001</td>\n",
       "      <td>1.0</td>\n",
       "      <td>2</td>\n",
       "    </tr>\n",
       "    <tr>\n",
       "      <th>847</th>\n",
       "      <td>Gurgaon, 122014</td>\n",
       "      <td>1.0</td>\n",
       "      <td>2</td>\n",
       "    </tr>\n",
       "    <tr>\n",
       "      <th>962</th>\n",
       "      <td>Hoobli, 580029</td>\n",
       "      <td>1.0</td>\n",
       "      <td>2</td>\n",
       "    </tr>\n",
       "    <tr>\n",
       "      <th>1021</th>\n",
       "      <td>Hyderabad , 500014</td>\n",
       "      <td>1.0</td>\n",
       "      <td>2</td>\n",
       "    </tr>\n",
       "    <tr>\n",
       "      <th>1366</th>\n",
       "      <td>Kanpur , 208021</td>\n",
       "      <td>1.0</td>\n",
       "      <td>2</td>\n",
       "    </tr>\n",
       "    <tr>\n",
       "      <th>2554</th>\n",
       "      <td>chandigarh, 160003</td>\n",
       "      <td>1.0</td>\n",
       "      <td>2</td>\n",
       "    </tr>\n",
       "    <tr>\n",
       "      <th>2563</th>\n",
       "      <td>chennai, 600030</td>\n",
       "      <td>1.0</td>\n",
       "      <td>2</td>\n",
       "    </tr>\n",
       "    <tr>\n",
       "      <th>2643</th>\n",
       "      <td>jalandhar, 144022</td>\n",
       "      <td>1.0</td>\n",
       "      <td>2</td>\n",
       "    </tr>\n",
       "  </tbody>\n",
       "</table>\n",
       "</div>"
      ]
     },
     "metadata": {},
     "output_type": "display_data",
     "jetTransient": {
      "display_id": null
     }
    }
   ],
   "execution_count": 27
  },
  {
   "cell_type": "markdown",
   "id": "8b4c3712d8a9c895",
   "metadata": {},
   "source": [
    "### KMeans clustering on risk features\n",
    "# Customer & Order Clustering\n",
    "\n",
    "- KMeans clustering to segment orders/customers based on delivery patterns\n",
    "- Choose optimal number of clusters via elbow method\n",
    "- Features used: order size, delivery time, traffic, stock availability\n",
    "\n",
    "**Business Impact:**\n",
    "Segments high-risk orders for targeted operational attention."
   ]
  },
  {
   "cell_type": "code",
   "id": "c404e0a541e6835c",
   "metadata": {
    "ExecuteTime": {
     "end_time": "2025-09-11T10:16:14.946895Z",
     "start_time": "2025-09-11T10:16:14.587755Z"
    }
   },
   "source": [
    "cluster_df = df.loc[df['delivery_status']=='delivered', ['order_value','delay_minutes']].dropna()\n",
    "if not cluster_df.empty:\n",
    "    scaler = StandardScaler()\n",
    "    Xc = scaler.fit_transform(cluster_df[['order_value','delay_minutes']])\n",
    "    k = 4\n",
    "    km = KMeans(n_clusters=k, random_state=42).fit(Xc)\n",
    "    cluster_df['cluster'] = km.labels_\n",
    "    display(cluster_df.groupby('cluster').agg({'order_value':['median','count'],'delay_minutes':'median'}))\n",
    "    df.loc[cluster_df.index, 'risk_cluster'] = km.labels_\n"
   ],
   "outputs": [
    {
     "data": {
      "text/plain": [
       "        order_value       delay_minutes\n",
       "             median count        median\n",
       "cluster                                \n",
       "0           2022.27  5381           4.0\n",
       "1           2006.27  6425         147.0\n",
       "2         147165.18   871         138.0\n",
       "3           1967.54  4624         246.0"
      ],
      "text/html": [
       "<div>\n",
       "<style scoped>\n",
       "    .dataframe tbody tr th:only-of-type {\n",
       "        vertical-align: middle;\n",
       "    }\n",
       "\n",
       "    .dataframe tbody tr th {\n",
       "        vertical-align: top;\n",
       "    }\n",
       "\n",
       "    .dataframe thead tr th {\n",
       "        text-align: left;\n",
       "    }\n",
       "\n",
       "    .dataframe thead tr:last-of-type th {\n",
       "        text-align: right;\n",
       "    }\n",
       "</style>\n",
       "<table border=\"1\" class=\"dataframe\">\n",
       "  <thead>\n",
       "    <tr>\n",
       "      <th></th>\n",
       "      <th colspan=\"2\" halign=\"left\">order_value</th>\n",
       "      <th>delay_minutes</th>\n",
       "    </tr>\n",
       "    <tr>\n",
       "      <th></th>\n",
       "      <th>median</th>\n",
       "      <th>count</th>\n",
       "      <th>median</th>\n",
       "    </tr>\n",
       "    <tr>\n",
       "      <th>cluster</th>\n",
       "      <th></th>\n",
       "      <th></th>\n",
       "      <th></th>\n",
       "    </tr>\n",
       "  </thead>\n",
       "  <tbody>\n",
       "    <tr>\n",
       "      <th>0</th>\n",
       "      <td>2022.27</td>\n",
       "      <td>5381</td>\n",
       "      <td>4.0</td>\n",
       "    </tr>\n",
       "    <tr>\n",
       "      <th>1</th>\n",
       "      <td>2006.27</td>\n",
       "      <td>6425</td>\n",
       "      <td>147.0</td>\n",
       "    </tr>\n",
       "    <tr>\n",
       "      <th>2</th>\n",
       "      <td>147165.18</td>\n",
       "      <td>871</td>\n",
       "      <td>138.0</td>\n",
       "    </tr>\n",
       "    <tr>\n",
       "      <th>3</th>\n",
       "      <td>1967.54</td>\n",
       "      <td>4624</td>\n",
       "      <td>246.0</td>\n",
       "    </tr>\n",
       "  </tbody>\n",
       "</table>\n",
       "</div>"
      ]
     },
     "metadata": {},
     "output_type": "display_data",
     "jetTransient": {
      "display_id": null
     }
    }
   ],
   "execution_count": 28
  },
  {
   "cell_type": "code",
   "id": "e814053d335290c",
   "metadata": {
    "ExecuteTime": {
     "end_time": "2025-09-11T10:16:15.426709Z",
     "start_time": "2025-09-11T10:16:15.011812Z"
    }
   },
   "source": [
    "# Elbow method\n",
    "sse = {num: KMeans(n_clusters=num, random_state=42).fit(Xc).inertia_ for num in range(2, 6)}\n",
    "plt.figure(figsize=(6, 4))\n",
    "plt.plot(list(sse.keys()), list(sse.values()), marker='o')\n",
    "plt.xlabel('Number of Clusters')\n",
    "plt.ylabel('SSE')\n",
    "plt.title('Elbow Method for KMeans')\n",
    "plt.savefig('Cleaned Data/plots/elbow_plot.png', dpi=150)\n",
    "plt.show()"
   ],
   "outputs": [
    {
     "data": {
      "text/plain": [
       "<Figure size 600x400 with 1 Axes>"
      ],
      "image/png": "[encoded data removed]"
     },
     "metadata": {},
     "output_type": "display_data",
     "jetTransient": {
      "display_id": null
     }
    }
   ],
   "execution_count": 29
  },
  {
   "cell_type": "markdown",
   "id": "e2450ff17f2210d2",
   "metadata": {},
   "source": [
    "### SSE (Sum of Squared Errors)\n",
    "- **SSE** measures how far data points are from their cluster centroids.\n",
    "- Smaller SSE → points are tightly packed in clusters.\n",
    "- Larger SSE → clusters are loose and spread out.\n",
    "- **Elbow Method:** Plot SSE vs. number of clusters (k).\n",
    "  The “elbow” point, where the SSE curve starts flattening, suggests the optimal number of clusters."
   ]
  },
  {
   "cell_type": "markdown",
   "id": "77384340d07c14ba",
   "metadata": {},
   "source": [
    "## Logistic Regression Modeling: For On-time Delivery Prediction\n",
    "\n",
    "- Chosen for interpretability over black-box models (like XGBoost)\n",
    "- Model Inputs:\n",
    "  - Temporal features (`day_of_week`, `hour_of_day`, `month`)\n",
    "  - Traffic and stock variables\n",
    "  - Interaction features\n",
    "- Hyperparameter tuning with GridSearchCV (`C` regularization)\n",
    "- Optional ensemble with XGBoost for improved accuracy\n",
    "- Evaluation:\n",
    "  - ROC-AUC, confusion matrix, probability distributions\n",
    "\n",
    "**Business Impact:**\n",
    "Predicts risk of late delivery, enabling proactive slot allocation and operational adjustments."
   ]
  },
  {
   "cell_type": "markdown",
   "id": "d4f8554616bb71b7",
   "metadata": {},
   "source": [
    "## 1) Prepare features"
   ]
  },
  {
   "cell_type": "code",
   "id": "80a10de7091b03be",
   "metadata": {
    "ExecuteTime": {
     "end_time": "2025-09-11T10:16:15.518781Z",
     "start_time": "2025-09-11T10:16:15.456628Z"
    }
   },
   "source": [
    "model_df = df.loc[df['delivery_status']=='delivered'].copy()\n",
    "\n",
    "feat_candidates = [c for c in ['order_value','order_size','inv_stock_level','cour_availability'] if c in model_df.columns]\n",
    "\n",
    "# Traffic columns\n",
    "traffic_cols = [c for c in model_df.columns if c.startswith('ext_traffic_')]\n",
    "feat_candidates += traffic_cols\n",
    "\n",
    "# Temporal features\n",
    "if 'promised_slot_start' in model_df.columns:\n",
    "    model_df['hour_of_day'] = model_df['promised_slot_start'].dt.hour\n",
    "    model_df['weekday'] = model_df['promised_slot_start'].dt.weekday\n",
    "    model_df['is_weekend'] = model_df['promised_slot_start'].dt.weekday >=5\n",
    "    model_df['month'] = model_df['promised_slot_start'].dt.month\n",
    "    feat_candidates += ['hour_of_day','weekday','is_weekend','month']\n",
    "\n",
    "# Categorical encoding\n",
    "categorical_cols = [c for c in traffic_cols if c in model_df.columns] + ['is_weekend']\n",
    "X = model_df[feat_candidates]\n",
    "y = model_df['on_time'].astype(int)\n",
    "\n",
    "X = pd.get_dummies(X, columns=categorical_cols, drop_first=True)\n",
    "\n",
    "# Drop NA\n",
    "X = X.dropna()\n",
    "y = y.loc[X.index]\n",
    "\n",
    "# Scale numeric features\n",
    "scaler = StandardScaler()\n",
    "X_scaled = scaler.fit_transform(X)"
   ],
   "outputs": [],
   "execution_count": 30
  },
  {
   "cell_type": "markdown",
   "id": "54f9363827e16649",
   "metadata": {},
   "source": [
    "## 2) Logistic Regression baseline CV"
   ]
  },
  {
   "cell_type": "code",
   "id": "6e7bfbdf00e84781",
   "metadata": {
    "ExecuteTime": {
     "end_time": "2025-09-11T10:16:15.621902Z",
     "start_time": "2025-09-11T10:16:15.529301Z"
    }
   },
   "source": [
    "lr = LogisticRegression(max_iter=1000)\n",
    "cv_scores = cross_val_score(lr, X_scaled, y, cv=5, scoring='roc_auc')\n",
    "print(\"Logistic CV AUC mean:\", round(cv_scores.mean(),4))"
   ],
   "outputs": [
    {
     "name": "stdout",
     "output_type": "stream",
     "text": [
      "Logistic CV AUC mean: 0.4962\n"
     ]
    }
   ],
   "execution_count": 31
  },
  {
   "cell_type": "markdown",
   "id": "19ba0cd383ccbe00",
   "metadata": {},
   "source": [
    "## 3) Train/test split"
   ]
  },
  {
   "cell_type": "code",
   "id": "9ac8a408384f2ac6",
   "metadata": {
    "ExecuteTime": {
     "end_time": "2025-09-11T10:16:15.692957Z",
     "start_time": "2025-09-11T10:16:15.652622Z"
    }
   },
   "source": [
    "X_train, X_test, y_train, y_test = train_test_split(\n",
    "    X_scaled, y, test_size=0.25, stratify=y, random_state=42\n",
    ")\n",
    "\n",
    "lr.fit(X_train, y_train)"
   ],
   "outputs": [
    {
     "data": {
      "text/plain": [
       "LogisticRegression(max_iter=1000)"
      ],
      "text/html": [
       "<style>#sk-container-id-1 {\n",
       "  /* Definition of color scheme common for light and dark mode */\n",
       "  --sklearn-color-text: #000;\n",
       "  --sklearn-color-text-muted: #666;\n",
       "  --sklearn-color-line: gray;\n",
       "  /* Definition of color scheme for unfitted estimators */\n",
       "  --sklearn-color-unfitted-level-0: #fff5e6;\n",
       "  --sklearn-color-unfitted-level-1: #f6e4d2;\n",
       "  --sklearn-color-unfitted-level-2: #ffe0b3;\n",
       "  --sklearn-color-unfitted-level-3: chocolate;\n",
       "  /* Definition of color scheme for fitted estimators */\n",
       "  --sklearn-color-fitted-level-0: #f0f8ff;\n",
       "  --sklearn-color-fitted-level-1: #d4ebff;\n",
       "  --sklearn-color-fitted-level-2: #b3dbfd;\n",
       "  --sklearn-color-fitted-level-3: cornflowerblue;\n",
       "\n",
       "  /* Specific color for light theme */\n",
       "  --sklearn-color-text-on-default-background: var(--sg-text-color, var(--theme-code-foreground, var(--jp-content-font-color1, black)));\n",
       "  --sklearn-color-background: var(--sg-background-color, var(--theme-background, var(--jp-layout-color0, white)));\n",
       "  --sklearn-color-border-box: var(--sg-text-color, var(--theme-code-foreground, var(--jp-content-font-color1, black)));\n",
       "  --sklearn-color-icon: #696969;\n",
       "\n",
       "  @media (prefers-color-scheme: dark) {\n",
       "    /* Redefinition of color scheme for dark theme */\n",
       "    --sklearn-color-text-on-default-background: var(--sg-text-color, var(--theme-code-foreground, var(--jp-content-font-color1, white)));\n",
       "    --sklearn-color-background: var(--sg-background-color, var(--theme-background, var(--jp-layout-color0, #111)));\n",
       "    --sklearn-color-border-box: var(--sg-text-color, var(--theme-code-foreground, var(--jp-content-font-color1, white)));\n",
       "    --sklearn-color-icon: #878787;\n",
       "  }\n",
       "}\n",
       "\n",
       "#sk-container-id-1 {\n",
       "  color: var(--sklearn-color-text);\n",
       "}\n",
       "\n",
       "#sk-container-id-1 pre {\n",
       "  padding: 0;\n",
       "}\n",
       "\n",
       "#sk-container-id-1 input.sk-hidden--visually {\n",
       "  border: 0;\n",
       "  clip: rect(1px 1px 1px 1px);\n",
       "  clip: rect(1px, 1px, 1px, 1px);\n",
       "  height: 1px;\n",
       "  margin: -1px;\n",
       "  overflow: hidden;\n",
       "  padding: 0;\n",
       "  position: absolute;\n",
       "  width: 1px;\n",
       "}\n",
       "\n",
       "#sk-container-id-1 div.sk-dashed-wrapped {\n",
       "  border: 1px dashed var(--sklearn-color-line);\n",
       "  margin: 0 0.4em 0.5em 0.4em;\n",
       "  box-sizing: border-box;\n",
       "  padding-bottom: 0.4em;\n",
       "  background-color: var(--sklearn-color-background);\n",
       "}\n",
       "\n",
       "#sk-container-id-1 div.sk-container {\n",
       "  /* jupyter's `normalize.less` sets `[hidden] { display: none; }`\n",
       "     but bootstrap.min.css set `[hidden] { display: none !important; }`\n",
       "     so we also need the `!important` here to be able to override the\n",
       "     default hidden behavior on the sphinx rendered scikit-learn.org.\n",
       "     See: https://github.com/scikit-learn/scikit-learn/issues/21755 */\n",
       "  display: inline-block !important;\n",
       "  position: relative;\n",
       "}\n",
       "\n",
       "#sk-container-id-1 div.sk-text-repr-fallback {\n",
       "  display: none;\n",
       "}\n",
       "\n",
       "div.sk-parallel-item,\n",
       "div.sk-serial,\n",
       "div.sk-item {\n",
       "  /* draw centered vertical line to link estimators */\n",
       "  background-image: linear-gradient(var(--sklearn-color-text-on-default-background), var(--sklearn-color-text-on-default-background));\n",
       "  background-size: 2px 100%;\n",
       "  background-repeat: no-repeat;\n",
       "  background-position: center center;\n",
       "}\n",
       "\n",
       "/* Parallel-specific style estimator block */\n",
       "\n",
       "#sk-container-id-1 div.sk-parallel-item::after {\n",
       "  content: \"\";\n",
       "  width: 100%;\n",
       "  border-bottom: 2px solid var(--sklearn-color-text-on-default-background);\n",
       "  flex-grow: 1;\n",
       "}\n",
       "\n",
       "#sk-container-id-1 div.sk-parallel {\n",
       "  display: flex;\n",
       "  align-items: stretch;\n",
       "  justify-content: center;\n",
       "  background-color: var(--sklearn-color-background);\n",
       "  position: relative;\n",
       "}\n",
       "\n",
       "#sk-container-id-1 div.sk-parallel-item {\n",
       "  display: flex;\n",
       "  flex-direction: column;\n",
       "}\n",
       "\n",
       "#sk-container-id-1 div.sk-parallel-item:first-child::after {\n",
       "  align-self: flex-end;\n",
       "  width: 50%;\n",
       "}\n",
       "\n",
       "#sk-container-id-1 div.sk-parallel-item:last-child::after {\n",
       "  align-self: flex-start;\n",
       "  width: 50%;\n",
       "}\n",
       "\n",
       "#sk-container-id-1 div.sk-parallel-item:only-child::after {\n",
       "  width: 0;\n",
       "}\n",
       "\n",
       "/* Serial-specific style estimator block */\n",
       "\n",
       "#sk-container-id-1 div.sk-serial {\n",
       "  display: flex;\n",
       "  flex-direction: column;\n",
       "  align-items: center;\n",
       "  background-color: var(--sklearn-color-background);\n",
       "  padding-right: 1em;\n",
       "  padding-left: 1em;\n",
       "}\n",
       "\n",
       "\n",
       "/* Toggleable style: style used for estimator/Pipeline/ColumnTransformer box that is\n",
       "clickable and can be expanded/collapsed.\n",
       "- Pipeline and ColumnTransformer use this feature and define the default style\n",
       "- Estimators will overwrite some part of the style using the `sk-estimator` class\n",
       "*/\n",
       "\n",
       "/* Pipeline and ColumnTransformer style (default) */\n",
       "\n",
       "#sk-container-id-1 div.sk-toggleable {\n",
       "  /* Default theme specific background. It is overwritten whether we have a\n",
       "  specific estimator or a Pipeline/ColumnTransformer */\n",
       "  background-color: var(--sklearn-color-background);\n",
       "}\n",
       "\n",
       "/* Toggleable label */\n",
       "#sk-container-id-1 label.sk-toggleable__label {\n",
       "  cursor: pointer;\n",
       "  display: flex;\n",
       "  width: 100%;\n",
       "  margin-bottom: 0;\n",
       "  padding: 0.5em;\n",
       "  box-sizing: border-box;\n",
       "  text-align: center;\n",
       "  align-items: start;\n",
       "  justify-content: space-between;\n",
       "  gap: 0.5em;\n",
       "}\n",
       "\n",
       "#sk-container-id-1 label.sk-toggleable__label .caption {\n",
       "  font-size: 0.6rem;\n",
       "  font-weight: lighter;\n",
       "  color: var(--sklearn-color-text-muted);\n",
       "}\n",
       "\n",
       "#sk-container-id-1 label.sk-toggleable__label-arrow:before {\n",
       "  /* Arrow on the left of the label */\n",
       "  content: \"▸\";\n",
       "  float: left;\n",
       "  margin-right: 0.25em;\n",
       "  color: var(--sklearn-color-icon);\n",
       "}\n",
       "\n",
       "#sk-container-id-1 label.sk-toggleable__label-arrow:hover:before {\n",
       "  color: var(--sklearn-color-text);\n",
       "}\n",
       "\n",
       "/* Toggleable content - dropdown */\n",
       "\n",
       "#sk-container-id-1 div.sk-toggleable__content {\n",
       "  display: none;\n",
       "  text-align: left;\n",
       "  /* unfitted */\n",
       "  background-color: var(--sklearn-color-unfitted-level-0);\n",
       "}\n",
       "\n",
       "#sk-container-id-1 div.sk-toggleable__content.fitted {\n",
       "  /* fitted */\n",
       "  background-color: var(--sklearn-color-fitted-level-0);\n",
       "}\n",
       "\n",
       "#sk-container-id-1 div.sk-toggleable__content pre {\n",
       "  margin: 0.2em;\n",
       "  border-radius: 0.25em;\n",
       "  color: var(--sklearn-color-text);\n",
       "  /* unfitted */\n",
       "  background-color: var(--sklearn-color-unfitted-level-0);\n",
       "}\n",
       "\n",
       "#sk-container-id-1 div.sk-toggleable__content.fitted pre {\n",
       "  /* unfitted */\n",
       "  background-color: var(--sklearn-color-fitted-level-0);\n",
       "}\n",
       "\n",
       "#sk-container-id-1 input.sk-toggleable__control:checked~div.sk-toggleable__content {\n",
       "  /* Expand drop-down */\n",
       "  display: block;\n",
       "  width: 100%;\n",
       "  overflow: visible;\n",
       "}\n",
       "\n",
       "#sk-container-id-1 input.sk-toggleable__control:checked~label.sk-toggleable__label-arrow:before {\n",
       "  content: \"▾\";\n",
       "}\n",
       "\n",
       "/* Pipeline/ColumnTransformer-specific style */\n",
       "\n",
       "#sk-container-id-1 div.sk-label input.sk-toggleable__control:checked~label.sk-toggleable__label {\n",
       "  color: var(--sklearn-color-text);\n",
       "  background-color: var(--sklearn-color-unfitted-level-2);\n",
       "}\n",
       "\n",
       "#sk-container-id-1 div.sk-label.fitted input.sk-toggleable__control:checked~label.sk-toggleable__label {\n",
       "  background-color: var(--sklearn-color-fitted-level-2);\n",
       "}\n",
       "\n",
       "/* Estimator-specific style */\n",
       "\n",
       "/* Colorize estimator box */\n",
       "#sk-container-id-1 div.sk-estimator input.sk-toggleable__control:checked~label.sk-toggleable__label {\n",
       "  /* unfitted */\n",
       "  background-color: var(--sklearn-color-unfitted-level-2);\n",
       "}\n",
       "\n",
       "#sk-container-id-1 div.sk-estimator.fitted input.sk-toggleable__control:checked~label.sk-toggleable__label {\n",
       "  /* fitted */\n",
       "  background-color: var(--sklearn-color-fitted-level-2);\n",
       "}\n",
       "\n",
       "#sk-container-id-1 div.sk-label label.sk-toggleable__label,\n",
       "#sk-container-id-1 div.sk-label label {\n",
       "  /* The background is the default theme color */\n",
       "  color: var(--sklearn-color-text-on-default-background);\n",
       "}\n",
       "\n",
       "/* On hover, darken the color of the background */\n",
       "#sk-container-id-1 div.sk-label:hover label.sk-toggleable__label {\n",
       "  color: var(--sklearn-color-text);\n",
       "  background-color: var(--sklearn-color-unfitted-level-2);\n",
       "}\n",
       "\n",
       "/* Label box, darken color on hover, fitted */\n",
       "#sk-container-id-1 div.sk-label.fitted:hover label.sk-toggleable__label.fitted {\n",
       "  color: var(--sklearn-color-text);\n",
       "  background-color: var(--sklearn-color-fitted-level-2);\n",
       "}\n",
       "\n",
       "/* Estimator label */\n",
       "\n",
       "#sk-container-id-1 div.sk-label label {\n",
       "  font-family: monospace;\n",
       "  font-weight: bold;\n",
       "  display: inline-block;\n",
       "  line-height: 1.2em;\n",
       "}\n",
       "\n",
       "#sk-container-id-1 div.sk-label-container {\n",
       "  text-align: center;\n",
       "}\n",
       "\n",
       "/* Estimator-specific */\n",
       "#sk-container-id-1 div.sk-estimator {\n",
       "  font-family: monospace;\n",
       "  border: 1px dotted var(--sklearn-color-border-box);\n",
       "  border-radius: 0.25em;\n",
       "  box-sizing: border-box;\n",
       "  margin-bottom: 0.5em;\n",
       "  /* unfitted */\n",
       "  background-color: var(--sklearn-color-unfitted-level-0);\n",
       "}\n",
       "\n",
       "#sk-container-id-1 div.sk-estimator.fitted {\n",
       "  /* fitted */\n",
       "  background-color: var(--sklearn-color-fitted-level-0);\n",
       "}\n",
       "\n",
       "/* on hover */\n",
       "#sk-container-id-1 div.sk-estimator:hover {\n",
       "  /* unfitted */\n",
       "  background-color: var(--sklearn-color-unfitted-level-2);\n",
       "}\n",
       "\n",
       "#sk-container-id-1 div.sk-estimator.fitted:hover {\n",
       "  /* fitted */\n",
       "  background-color: var(--sklearn-color-fitted-level-2);\n",
       "}\n",
       "\n",
       "/* Specification for estimator info (e.g. \"i\" and \"?\") */\n",
       "\n",
       "/* Common style for \"i\" and \"?\" */\n",
       "\n",
       ".sk-estimator-doc-link,\n",
       "a:link.sk-estimator-doc-link,\n",
       "a:visited.sk-estimator-doc-link {\n",
       "  float: right;\n",
       "  font-size: smaller;\n",
       "  line-height: 1em;\n",
       "  font-family: monospace;\n",
       "  background-color: var(--sklearn-color-background);\n",
       "  border-radius: 1em;\n",
       "  height: 1em;\n",
       "  width: 1em;\n",
       "  text-decoration: none !important;\n",
       "  margin-left: 0.5em;\n",
       "  text-align: center;\n",
       "  /* unfitted */\n",
       "  border: var(--sklearn-color-unfitted-level-1) 1pt solid;\n",
       "  color: var(--sklearn-color-unfitted-level-1);\n",
       "}\n",
       "\n",
       ".sk-estimator-doc-link.fitted,\n",
       "a:link.sk-estimator-doc-link.fitted,\n",
       "a:visited.sk-estimator-doc-link.fitted {\n",
       "  /* fitted */\n",
       "  border: var(--sklearn-color-fitted-level-1) 1pt solid;\n",
       "  color: var(--sklearn-color-fitted-level-1);\n",
       "}\n",
       "\n",
       "/* On hover */\n",
       "div.sk-estimator:hover .sk-estimator-doc-link:hover,\n",
       ".sk-estimator-doc-link:hover,\n",
       "div.sk-label-container:hover .sk-estimator-doc-link:hover,\n",
       ".sk-estimator-doc-link:hover {\n",
       "  /* unfitted */\n",
       "  background-color: var(--sklearn-color-unfitted-level-3);\n",
       "  color: var(--sklearn-color-background);\n",
       "  text-decoration: none;\n",
       "}\n",
       "\n",
       "div.sk-estimator.fitted:hover .sk-estimator-doc-link.fitted:hover,\n",
       ".sk-estimator-doc-link.fitted:hover,\n",
       "div.sk-label-container:hover .sk-estimator-doc-link.fitted:hover,\n",
       ".sk-estimator-doc-link.fitted:hover {\n",
       "  /* fitted */\n",
       "  background-color: var(--sklearn-color-fitted-level-3);\n",
       "  color: var(--sklearn-color-background);\n",
       "  text-decoration: none;\n",
       "}\n",
       "\n",
       "/* Span, style for the box shown on hovering the info icon */\n",
       ".sk-estimator-doc-link span {\n",
       "  display: none;\n",
       "  z-index: 9999;\n",
       "  position: relative;\n",
       "  font-weight: normal;\n",
       "  right: .2ex;\n",
       "  padding: .5ex;\n",
       "  margin: .5ex;\n",
       "  width: min-content;\n",
       "  min-width: 20ex;\n",
       "  max-width: 50ex;\n",
       "  color: var(--sklearn-color-text);\n",
       "  box-shadow: 2pt 2pt 4pt #999;\n",
       "  /* unfitted */\n",
       "  background: var(--sklearn-color-unfitted-level-0);\n",
       "  border: .5pt solid var(--sklearn-color-unfitted-level-3);\n",
       "}\n",
       "\n",
       ".sk-estimator-doc-link.fitted span {\n",
       "  /* fitted */\n",
       "  background: var(--sklearn-color-fitted-level-0);\n",
       "  border: var(--sklearn-color-fitted-level-3);\n",
       "}\n",
       "\n",
       ".sk-estimator-doc-link:hover span {\n",
       "  display: block;\n",
       "}\n",
       "\n",
       "/* \"?\"-specific style due to the `<a>` HTML tag */\n",
       "\n",
       "#sk-container-id-1 a.estimator_doc_link {\n",
       "  float: right;\n",
       "  font-size: 1rem;\n",
       "  line-height: 1em;\n",
       "  font-family: monospace;\n",
       "  background-color: var(--sklearn-color-background);\n",
       "  border-radius: 1rem;\n",
       "  height: 1rem;\n",
       "  width: 1rem;\n",
       "  text-decoration: none;\n",
       "  /* unfitted */\n",
       "  color: var(--sklearn-color-unfitted-level-1);\n",
       "  border: var(--sklearn-color-unfitted-level-1) 1pt solid;\n",
       "}\n",
       "\n",
       "#sk-container-id-1 a.estimator_doc_link.fitted {\n",
       "  /* fitted */\n",
       "  border: var(--sklearn-color-fitted-level-1) 1pt solid;\n",
       "  color: var(--sklearn-color-fitted-level-1);\n",
       "}\n",
       "\n",
       "/* On hover */\n",
       "#sk-container-id-1 a.estimator_doc_link:hover {\n",
       "  /* unfitted */\n",
       "  background-color: var(--sklearn-color-unfitted-level-3);\n",
       "  color: var(--sklearn-color-background);\n",
       "  text-decoration: none;\n",
       "}\n",
       "\n",
       "#sk-container-id-1 a.estimator_doc_link.fitted:hover {\n",
       "  /* fitted */\n",
       "  background-color: var(--sklearn-color-fitted-level-3);\n",
       "}\n",
       "\n",
       ".estimator-table summary {\n",
       "    padding: .5rem;\n",
       "    font-family: monospace;\n",
       "    cursor: pointer;\n",
       "}\n",
       "\n",
       ".estimator-table details[open] {\n",
       "    padding-left: 0.1rem;\n",
       "    padding-right: 0.1rem;\n",
       "    padding-bottom: 0.3rem;\n",
       "}\n",
       "\n",
       ".estimator-table .parameters-table {\n",
       "    margin-left: auto !important;\n",
       "    margin-right: auto !important;\n",
       "}\n",
       "\n",
       ".estimator-table .parameters-table tr:nth-child(odd) {\n",
       "    background-color: #fff;\n",
       "}\n",
       "\n",
       ".estimator-table .parameters-table tr:nth-child(even) {\n",
       "    background-color: #f6f6f6;\n",
       "}\n",
       "\n",
       ".estimator-table .parameters-table tr:hover {\n",
       "    background-color: #e0e0e0;\n",
       "}\n",
       "\n",
       ".estimator-table table td {\n",
       "    border: 1px solid rgba(106, 105, 104, 0.232);\n",
       "}\n",
       "\n",
       ".user-set td {\n",
       "    color:rgb(255, 94, 0);\n",
       "    text-align: left;\n",
       "}\n",
       "\n",
       ".user-set td.value pre {\n",
       "    color:rgb(255, 94, 0) !important;\n",
       "    background-color: transparent !important;\n",
       "}\n",
       "\n",
       ".default td {\n",
       "    color: black;\n",
       "    text-align: left;\n",
       "}\n",
       "\n",
       ".user-set td i,\n",
       ".default td i {\n",
       "    color: black;\n",
       "}\n",
       "\n",
       ".copy-paste-icon {\n",
       "    background-image: url(data:image/svg+xml;base64,PHN2ZyB4bWxucz0iaHR0cDovL3d3dy53My5vcmcvMjAwMC9zdmciIHZpZXdCb3g9IjAgMCA0NDggNTEyIj48IS0tIUZvbnQgQXdlc29tZSBGcmVlIDYuNy4yIGJ5IEBmb250YXdlc29tZSAtIGh0dHBzOi8vZm9udGF3ZXNvbWUuY29tIExpY2Vuc2UgLSBodHRwczovL2ZvbnRhd2Vzb21lLmNvbS9saWNlbnNlL2ZyZWUgQ29weXJpZ2h0IDIwMjUgRm9udGljb25zLCBJbmMuLS0+PHBhdGggZD0iTTIwOCAwTDMzMi4xIDBjMTIuNyAwIDI0LjkgNS4xIDMzLjkgMTQuMWw2Ny45IDY3LjljOSA5IDE0LjEgMjEuMiAxNC4xIDMzLjlMNDQ4IDMzNmMwIDI2LjUtMjEuNSA0OC00OCA0OGwtMTkyIDBjLTI2LjUgMC00OC0yMS41LTQ4LTQ4bDAtMjg4YzAtMjYuNSAyMS41LTQ4IDQ4LTQ4ek00OCAxMjhsODAgMCAwIDY0LTY0IDAgMCAyNTYgMTkyIDAgMC0zMiA2NCAwIDAgNDhjMCAyNi41LTIxLjUgNDgtNDggNDhMNDggNTEyYy0yNi41IDAtNDgtMjEuNS00OC00OEwwIDE3NmMwLTI2LjUgMjEuNS00OCA0OC00OHoiLz48L3N2Zz4=);\n",
       "    background-repeat: no-repeat;\n",
       "    background-size: 14px 14px;\n",
       "    background-position: 0;\n",
       "    display: inline-block;\n",
       "    width: 14px;\n",
       "    height: 14px;\n",
       "    cursor: pointer;\n",
       "}\n",
       "</style><body><div id=\"sk-container-id-1\" class=\"sk-top-container\"><div class=\"sk-text-repr-fallback\"><pre>LogisticRegression(max_iter=1000)</pre><b>In a Jupyter environment, please rerun this cell to show the HTML representation or trust the notebook. <br />On GitHub, the HTML representation is unable to render, please try loading this page with nbviewer.org.</b></div><div class=\"sk-container\" hidden><div class=\"sk-item\"><div class=\"sk-estimator fitted sk-toggleable\"><input class=\"sk-toggleable__control sk-hidden--visually\" id=\"sk-estimator-id-1\" type=\"checkbox\" checked><label for=\"sk-estimator-id-1\" class=\"sk-toggleable__label fitted sk-toggleable__label-arrow\"><div><div>LogisticRegression</div></div><div><a class=\"sk-estimator-doc-link fitted\" rel=\"noreferrer\" target=\"_blank\" href=\"https://scikit-learn.org/1.7/modules/generated/sklearn.linear_model.LogisticRegression.html\">?<span>Documentation for LogisticRegression</span></a><span class=\"sk-estimator-doc-link fitted\">i<span>Fitted</span></span></div></label><div class=\"sk-toggleable__content fitted\" data-param-prefix=\"\">\n",
       "        <div class=\"estimator-table\">\n",
       "            <details>\n",
       "                <summary>Parameters</summary>\n",
       "                <table class=\"parameters-table\">\n",
       "                  <tbody>\n",
       "                    \n",
       "        <tr class=\"default\">\n",
       "            <td><i class=\"copy-paste-icon\"\n",
       "                 onclick=\"copyToClipboard('penalty',\n",
       "                          this.parentElement.nextElementSibling)\"\n",
       "            ></i></td>\n",
       "            <td class=\"param\">penalty&nbsp;</td>\n",
       "            <td class=\"value\">&#x27;l2&#x27;</td>\n",
       "        </tr>\n",
       "    \n",
       "\n",
       "        <tr class=\"default\">\n",
       "            <td><i class=\"copy-paste-icon\"\n",
       "                 onclick=\"copyToClipboard('dual',\n",
       "                          this.parentElement.nextElementSibling)\"\n",
       "            ></i></td>\n",
       "            <td class=\"param\">dual&nbsp;</td>\n",
       "            <td class=\"value\">False</td>\n",
       "        </tr>\n",
       "    \n",
       "\n",
       "        <tr class=\"default\">\n",
       "            <td><i class=\"copy-paste-icon\"\n",
       "                 onclick=\"copyToClipboard('tol',\n",
       "                          this.parentElement.nextElementSibling)\"\n",
       "            ></i></td>\n",
       "            <td class=\"param\">tol&nbsp;</td>\n",
       "            <td class=\"value\">0.0001</td>\n",
       "        </tr>\n",
       "    \n",
       "\n",
       "        <tr class=\"default\">\n",
       "            <td><i class=\"copy-paste-icon\"\n",
       "                 onclick=\"copyToClipboard('C',\n",
       "                          this.parentElement.nextElementSibling)\"\n",
       "            ></i></td>\n",
       "            <td class=\"param\">C&nbsp;</td>\n",
       "            <td class=\"value\">1.0</td>\n",
       "        </tr>\n",
       "    \n",
       "\n",
       "        <tr class=\"default\">\n",
       "            <td><i class=\"copy-paste-icon\"\n",
       "                 onclick=\"copyToClipboard('fit_intercept',\n",
       "                          this.parentElement.nextElementSibling)\"\n",
       "            ></i></td>\n",
       "            <td class=\"param\">fit_intercept&nbsp;</td>\n",
       "            <td class=\"value\">True</td>\n",
       "        </tr>\n",
       "    \n",
       "\n",
       "        <tr class=\"default\">\n",
       "            <td><i class=\"copy-paste-icon\"\n",
       "                 onclick=\"copyToClipboard('intercept_scaling',\n",
       "                          this.parentElement.nextElementSibling)\"\n",
       "            ></i></td>\n",
       "            <td class=\"param\">intercept_scaling&nbsp;</td>\n",
       "            <td class=\"value\">1</td>\n",
       "        </tr>\n",
       "    \n",
       "\n",
       "        <tr class=\"default\">\n",
       "            <td><i class=\"copy-paste-icon\"\n",
       "                 onclick=\"copyToClipboard('class_weight',\n",
       "                          this.parentElement.nextElementSibling)\"\n",
       "            ></i></td>\n",
       "            <td class=\"param\">class_weight&nbsp;</td>\n",
       "            <td class=\"value\">None</td>\n",
       "        </tr>\n",
       "    \n",
       "\n",
       "        <tr class=\"default\">\n",
       "            <td><i class=\"copy-paste-icon\"\n",
       "                 onclick=\"copyToClipboard('random_state',\n",
       "                          this.parentElement.nextElementSibling)\"\n",
       "            ></i></td>\n",
       "            <td class=\"param\">random_state&nbsp;</td>\n",
       "            <td class=\"value\">None</td>\n",
       "        </tr>\n",
       "    \n",
       "\n",
       "        <tr class=\"default\">\n",
       "            <td><i class=\"copy-paste-icon\"\n",
       "                 onclick=\"copyToClipboard('solver',\n",
       "                          this.parentElement.nextElementSibling)\"\n",
       "            ></i></td>\n",
       "            <td class=\"param\">solver&nbsp;</td>\n",
       "            <td class=\"value\">&#x27;lbfgs&#x27;</td>\n",
       "        </tr>\n",
       "    \n",
       "\n",
       "        <tr class=\"user-set\">\n",
       "            <td><i class=\"copy-paste-icon\"\n",
       "                 onclick=\"copyToClipboard('max_iter',\n",
       "                          this.parentElement.nextElementSibling)\"\n",
       "            ></i></td>\n",
       "            <td class=\"param\">max_iter&nbsp;</td>\n",
       "            <td class=\"value\">1000</td>\n",
       "        </tr>\n",
       "    \n",
       "\n",
       "        <tr class=\"default\">\n",
       "            <td><i class=\"copy-paste-icon\"\n",
       "                 onclick=\"copyToClipboard('multi_class',\n",
       "                          this.parentElement.nextElementSibling)\"\n",
       "            ></i></td>\n",
       "            <td class=\"param\">multi_class&nbsp;</td>\n",
       "            <td class=\"value\">&#x27;deprecated&#x27;</td>\n",
       "        </tr>\n",
       "    \n",
       "\n",
       "        <tr class=\"default\">\n",
       "            <td><i class=\"copy-paste-icon\"\n",
       "                 onclick=\"copyToClipboard('verbose',\n",
       "                          this.parentElement.nextElementSibling)\"\n",
       "            ></i></td>\n",
       "            <td class=\"param\">verbose&nbsp;</td>\n",
       "            <td class=\"value\">0</td>\n",
       "        </tr>\n",
       "    \n",
       "\n",
       "        <tr class=\"default\">\n",
       "            <td><i class=\"copy-paste-icon\"\n",
       "                 onclick=\"copyToClipboard('warm_start',\n",
       "                          this.parentElement.nextElementSibling)\"\n",
       "            ></i></td>\n",
       "            <td class=\"param\">warm_start&nbsp;</td>\n",
       "            <td class=\"value\">False</td>\n",
       "        </tr>\n",
       "    \n",
       "\n",
       "        <tr class=\"default\">\n",
       "            <td><i class=\"copy-paste-icon\"\n",
       "                 onclick=\"copyToClipboard('n_jobs',\n",
       "                          this.parentElement.nextElementSibling)\"\n",
       "            ></i></td>\n",
       "            <td class=\"param\">n_jobs&nbsp;</td>\n",
       "            <td class=\"value\">None</td>\n",
       "        </tr>\n",
       "    \n",
       "\n",
       "        <tr class=\"default\">\n",
       "            <td><i class=\"copy-paste-icon\"\n",
       "                 onclick=\"copyToClipboard('l1_ratio',\n",
       "                          this.parentElement.nextElementSibling)\"\n",
       "            ></i></td>\n",
       "            <td class=\"param\">l1_ratio&nbsp;</td>\n",
       "            <td class=\"value\">None</td>\n",
       "        </tr>\n",
       "    \n",
       "                  </tbody>\n",
       "                </table>\n",
       "            </details>\n",
       "        </div>\n",
       "    </div></div></div></div></div><script>function copyToClipboard(text, element) {\n",
       "    // Get the parameter prefix from the closest toggleable content\n",
       "    const toggleableContent = element.closest('.sk-toggleable__content');\n",
       "    const paramPrefix = toggleableContent ? toggleableContent.dataset.paramPrefix : '';\n",
       "    const fullParamName = paramPrefix ? `${paramPrefix}${text}` : text;\n",
       "\n",
       "    const originalStyle = element.style;\n",
       "    const computedStyle = window.getComputedStyle(element);\n",
       "    const originalWidth = computedStyle.width;\n",
       "    const originalHTML = element.innerHTML.replace('Copied!', '');\n",
       "\n",
       "    navigator.clipboard.writeText(fullParamName)\n",
       "        .then(() => {\n",
       "            element.style.width = originalWidth;\n",
       "            element.style.color = 'green';\n",
       "            element.innerHTML = \"Copied!\";\n",
       "\n",
       "            setTimeout(() => {\n",
       "                element.innerHTML = originalHTML;\n",
       "                element.style = originalStyle;\n",
       "            }, 2000);\n",
       "        })\n",
       "        .catch(err => {\n",
       "            console.error('Failed to copy:', err);\n",
       "            element.style.color = 'red';\n",
       "            element.innerHTML = \"Failed!\";\n",
       "            setTimeout(() => {\n",
       "                element.innerHTML = originalHTML;\n",
       "                element.style = originalStyle;\n",
       "            }, 2000);\n",
       "        });\n",
       "    return false;\n",
       "}\n",
       "\n",
       "document.querySelectorAll('.fa-regular.fa-copy').forEach(function(element) {\n",
       "    const toggleableContent = element.closest('.sk-toggleable__content');\n",
       "    const paramPrefix = toggleableContent ? toggleableContent.dataset.paramPrefix : '';\n",
       "    const paramName = element.parentElement.nextElementSibling.textContent.trim();\n",
       "    const fullParamName = paramPrefix ? `${paramPrefix}${paramName}` : paramName;\n",
       "\n",
       "    element.setAttribute('title', fullParamName);\n",
       "});\n",
       "</script></body>"
      ]
     },
     "execution_count": 32,
     "metadata": {},
     "output_type": "execute_result"
    }
   ],
   "execution_count": 32
  },
  {
   "cell_type": "markdown",
   "id": "f8bdf75bf64ad6e9",
   "metadata": {},
   "source": [
    "## 4) Predict & evaluate"
   ]
  },
  {
   "cell_type": "code",
   "id": "58528c92bf49095a",
   "metadata": {
    "ExecuteTime": {
     "end_time": "2025-09-11T10:16:15.742187Z",
     "start_time": "2025-09-11T10:16:15.717432Z"
    }
   },
   "source": [
    "y_pred_proba = lr.predict_proba(X_test)[:,1]\n",
    "y_pred = lr.predict(X_test)\n",
    "\n",
    "print(\"Final Test AUC:\", round(roc_auc_score(y_test, y_pred_proba),4))\n",
    "print(\"Classification report:\\n\", classification_report(y_test, y_pred, zero_division=0))\n"
   ],
   "outputs": [
    {
     "name": "stdout",
     "output_type": "stream",
     "text": [
      "Final Test AUC: 0.4969\n",
      "Classification report:\n",
      "               precision    recall  f1-score   support\n",
      "\n",
      "           0       0.84      1.00      0.92      3653\n",
      "           1       0.00      0.00      0.00       673\n",
      "\n",
      "    accuracy                           0.84      4326\n",
      "   macro avg       0.42      0.50      0.46      4326\n",
      "weighted avg       0.71      0.84      0.77      4326\n",
      "\n"
     ]
    }
   ],
   "execution_count": 33
  },
  {
   "cell_type": "code",
   "id": "e2221c5d2c62cd97",
   "metadata": {
    "ExecuteTime": {
     "end_time": "2025-09-11T10:16:16.066171Z",
     "start_time": "2025-09-11T10:16:15.766546Z"
    }
   },
   "source": [
    "date_cols_orders = ['order_date', 'promised_slot_start', 'promised_slot_end', 'actual_delivery_time']\n",
    "for c in date_cols_orders:\n",
    "    if c in df_orders.columns:\n",
    "        df_orders[c] = pd.to_datetime(df_orders[c], format='%Y-%m-%d %H:%M:%S', utc=True).dt.tz_convert('Asia/Kolkata')\n",
    "if 'event_date' in df_external.columns:\n",
    "    df_external['event_date'] = pd.to_datetime(df_external['event_date'], format='%Y-%m-%d %H:%M:%S', utc=True).dt.tz_convert('Asia/Kolkata')"
   ],
   "outputs": [],
   "execution_count": 34
  },
  {
   "cell_type": "code",
   "id": "324ffce071e90638",
   "metadata": {
    "ExecuteTime": {
     "end_time": "2025-09-11T10:16:16.119331Z",
     "start_time": "2025-09-11T10:16:16.078044Z"
    }
   },
   "source": [
    "# Ensure non-delivered rows have NaT\n",
    "non_delivered_mask = ~df_orders['delivery_status'].eq('Delivered')\n",
    "df_orders.loc[non_delivered_mask, 'actual_delivery_time'] = pd.NaT\n",
    "\n",
    "# Recalculate delay and on_time\n",
    "df_orders['delay_minutes'] = (\n",
    "    (df_orders['actual_delivery_time'] - df_orders['promised_slot_end']).dt.total_seconds() / 60.0\n",
    ")\n",
    "df_orders['on_time'] = df_orders['delay_minutes'].apply(lambda x: 1 if pd.notna(x) and x <= 0 else 0)\n",
    "print(\"On-time % (delivered only):\", df_orders[df_orders['delivery_status'] == 'Delivered']['on_time'].mean() * 100)"
   ],
   "outputs": [
    {
     "name": "stdout",
     "output_type": "stream",
     "text": [
      "On-time % (delivered only): 15.548234206115252\n"
     ]
    }
   ],
   "execution_count": 35
  },
  {
   "cell_type": "code",
   "id": "9a2e818a9a309e3b",
   "metadata": {
    "ExecuteTime": {
     "end_time": "2025-09-11T10:16:16.164099Z",
     "start_time": "2025-09-11T10:16:16.149279Z"
    }
   },
   "source": [
    "if 'promised_slot_start' in model_df.columns:\n",
    "    model_df['hour_of_day'] = model_df['promised_slot_start'].dt.hour\n",
    "    model_df['weekday'] = model_df['promised_slot_start'].dt.weekday  # 0 = Monday, 6 = Sunday\n",
    "    model_df['is_weekend'] = model_df['promised_slot_start'].dt.weekday >= 5\n",
    "    model_df['month'] = model_df['promised_slot_start'].dt.month"
   ],
   "outputs": [],
   "execution_count": 36
  },
  {
   "cell_type": "code",
   "id": "f2254a061d2bf95a",
   "metadata": {
    "ExecuteTime": {
     "end_time": "2025-09-11T10:16:17.138134Z",
     "start_time": "2025-09-11T10:16:16.174240Z"
    }
   },
   "source": [
    "plt.figure(figsize=(8, 5))\n",
    "sns.lineplot(x=model_df['promised_slot_start'].dt.month, y=model_df['on_time'], estimator='mean')\n",
    "plt.xlabel('Month')\n",
    "plt.ylabel('On-Time Rate')\n",
    "plt.title('On-Time Delivery Trend by Month')\n",
    "plt.savefig('Cleaned Data/plots/on_time_trend.png', dpi=150)\n",
    "plt.show()"
   ],
   "outputs": [
    {
     "data": {
      "text/plain": [
       "<Figure size 800x500 with 1 Axes>"
      ],
      "image/png": "[encoded data removed]"
     },
     "metadata": {},
     "output_type": "display_data",
     "jetTransient": {
      "display_id": null
     }
    }
   ],
   "execution_count": 37
  },
  {
   "cell_type": "code",
   "id": "bd792a0f3c4b5d9b",
   "metadata": {
    "ExecuteTime": {
     "end_time": "2025-09-11T10:16:17.538293Z",
     "start_time": "2025-09-11T10:16:17.363721Z"
    }
   },
   "source": [
    "# Confusion matrix heatmap\n",
    "cm = confusion_matrix(y_test, y_pred)\n",
    "plt.figure(figsize=(5,4))\n",
    "sns.heatmap(cm, annot=True, fmt='d', cmap='Blues')\n",
    "plt.title(\"Confusion Matrix\")\n",
    "plt.xlabel(\"Predicted\")\n",
    "plt.ylabel(\"Actual\")\n",
    "plt.show()"
   ],
   "outputs": [
    {
     "data": {
      "text/plain": [
       "<Figure size 500x400 with 2 Axes>"
      ],
      "image/png": "[encoded data removed]"
     },
     "metadata": {},
     "output_type": "display_data",
     "jetTransient": {
      "display_id": null
     }
    }
   ],
   "execution_count": 38
  },
  {
   "cell_type": "markdown",
   "id": "1c5ad55e0b7a2d4c",
   "metadata": {},
   "source": [
    "Confusion Matrix Heatmap\n",
    "\n",
    "Definition: A table that shows what the model guessed vs what actually happened.\n",
    "\n",
    "Colors: Darker cell = more orders in that category.\n",
    "\n",
    "Purpose: Helps identify how many deliveries were correctly predicted on-time or late, and where the model made mistakes."
   ]
  },
  {
   "cell_type": "markdown",
   "id": "ebc3a108245b8df9",
   "metadata": {},
   "source": [
    "## 5) Feature importance"
   ]
  },
  {
   "cell_type": "code",
   "id": "74547d718259f3b2",
   "metadata": {
    "ExecuteTime": {
     "end_time": "2025-09-11T10:16:17.808386Z",
     "start_time": "2025-09-11T10:16:17.567759Z"
    }
   },
   "source": [
    "coef_df = pd.Series(lr.coef_[0], index=X.columns).sort_values(ascending=False)\n",
    "display(coef_df)\n",
    "\n",
    "plt.figure(figsize=(8,5))\n",
    "coef_df.plot(kind='barh')\n",
    "plt.title('Feature coefficients (Logistic Regression)')\n",
    "plt.tight_layout()\n",
    "plt.show()"
   ],
   "outputs": [
    {
     "data": {
      "text/plain": [
       "is_weekend_True      0.078981\n",
       "order_value          0.050959\n",
       "cour_availability    0.019084\n",
       "inv_stock_level      0.005900\n",
       "order_size           0.005631\n",
       "month               -0.002280\n",
       "hour_of_day         -0.039972\n",
       "weekday             -0.061573\n",
       "dtype: float64"
      ]
     },
     "metadata": {},
     "output_type": "display_data",
     "jetTransient": {
      "display_id": null
     }
    },
    {
     "data": {
      "text/plain": [
       "<Figure size 800x500 with 1 Axes>"
      ],
      "image/png": "[encoded data removed]"
     },
     "metadata": {},
     "output_type": "display_data",
     "jetTransient": {
      "display_id": null
     }
    }
   ],
   "execution_count": 39
  },
  {
   "cell_type": "markdown",
   "id": "30c12361b2d283a5",
   "metadata": {},
   "source": [
    "Feature Coefficients (Logistic Regression)\n",
    "\n",
    "What it is: Shows which factors affect on-time delivery and by how much.\n",
    "\n",
    "Positive value: Helps delivery be on-time.\n",
    "\n",
    "Negative value: Makes delivery more likely to be late.\n",
    "\n",
    "Why useful: Lets you know which things to improve (like more staff, better stock, etc.)."
   ]
  },
  {
   "cell_type": "markdown",
   "id": "e84d29758bac6309",
   "metadata": {},
   "source": [
    "## 6) Predicted probability distribution"
   ]
  },
  {
   "cell_type": "code",
   "id": "ef1024091009378c",
   "metadata": {
    "ExecuteTime": {
     "end_time": "2025-09-11T10:16:18.150996Z",
     "start_time": "2025-09-11T10:16:17.825442Z"
    }
   },
   "source": [
    "plt.figure(figsize=(8,5))\n",
    "sns.histplot(y_pred_proba, bins=30, kde=True, color='purple')\n",
    "plt.title(\"Predicted Probability Distribution\")\n",
    "plt.xlabel(\"Predicted Probability of On-Time Delivery\")\n",
    "plt.ylabel(\"Count\")\n",
    "plt.show()"
   ],
   "outputs": [
    {
     "data": {
      "text/plain": [
       "<Figure size 800x500 with 1 Axes>"
      ],
      "image/png": "[encoded data removed]"
     },
     "metadata": {},
     "output_type": "display_data",
     "jetTransient": {
      "display_id": null
     }
    }
   ],
   "execution_count": 40
  },
  {
   "cell_type": "markdown",
   "id": "e667d77ad908bde3",
   "metadata": {},
   "source": [
    "Predicted Probability Distribution\n",
    "\n",
    "What it is: Shows how likely each order is to be on-time (0 = late, 1 = on-time).\n",
    "\n",
    "Histogram: Peaks near 1 = most orders likely on-time, peaks near 0 = risky orders.\n",
    "\n",
    "Why useful: Helps plan extra support for risky deliveries before problems happen."
   ]
  },
  {
   "cell_type": "code",
   "id": "2949dbb53e64bd93",
   "metadata": {
    "ExecuteTime": {
     "end_time": "2025-09-11T10:16:18.366909Z",
     "start_time": "2025-09-11T10:16:18.168445Z"
    }
   },
   "source": [
    "param_grid = {'C': [0.1, 1, 10]}\n",
    "grid = GridSearchCV(LogisticRegression(max_iter=1000), param_grid, cv=5, scoring='roc_auc')\n",
    "grid.fit(X_train, y_train)\n",
    "logging.info(f\"Best C: {grid.best_params_['C']}, Best AUC: {grid.best_score_:.4f}\")\n",
    "lr = grid.best_estimator_"
   ],
   "outputs": [],
   "execution_count": 41
  },
  {
   "cell_type": "markdown",
   "id": "e12adc050c82254",
   "metadata": {},
   "source": [
    "## Festive Simulation & Sensitivity Analysis\n",
    "\n",
    "- Simulate spikes in orders (20%, 40%, 60%) during festive periods\n",
    "- Consider:\n",
    "  - Stock shortages\n",
    "  - Courier availability\n",
    "  - Traffic levels\n",
    "  - Weather conditions (e.g., Heavy Rain, Storm)\n",
    "- Logging for audit: number of simulated rows, predicted misses\n",
    "- Add A/B test for new slot allocation vs control\n",
    "\n",
    "**Business Impact:**\n",
    "Helps forecast operational stress and plan resources efficiently to maintain on-time deliveries.\n"
   ]
  },
  {
   "cell_type": "code",
   "id": "f4e6fb27ccbe15d9",
   "metadata": {
    "ExecuteTime": {
     "end_time": "2025-09-11T10:16:18.457442Z",
     "start_time": "2025-09-11T10:16:18.380586Z"
    }
   },
   "source": [
    "import numpy as np\n",
    "\n",
    "\n",
    "def festive_sim(df_base, recent_days=30, spike_frac=0.4, courier_drop=0.15, traffic_bump=True):\n",
    "    # recent window\n",
    "    if 'order_date' not in df_base.columns:\n",
    "        sample = df_base.sample(frac=spike_frac, replace=True, random_state=42)\n",
    "        sim = pd.concat([df_base, sample], ignore_index=True)\n",
    "    else:\n",
    "        recent_cutoff = df_base['order_date'].max() - pd.Timedelta(days=recent_days)\n",
    "        df_recent = df_base[df_base['order_date'] >= recent_cutoff]\n",
    "        if df_recent.empty:\n",
    "            df_recent = df_base.sample(frac=0.1, random_state=42)\n",
    "        sample = df_recent.sample(frac=spike_frac, replace=True, random_state=42)\n",
    "        sim = pd.concat([df_base, sample], ignore_index=True)\n",
    "\n",
    "    # simulate courier shortage\n",
    "    if 'cour_availability' in sim.columns:\n",
    "        sim['cour_availability_sim'] = sim['cour_availability'] * (1 - courier_drop)\n",
    "    else:\n",
    "        sim['cour_availability_sim'] = 1\n",
    "\n",
    "    # traffic bump for festival months (Oct-Nov)\n",
    "    if traffic_bump and 'ext_event_date' in sim.columns:\n",
    "        sim['is_festive_month'] = sim['ext_event_date'].dt.month.isin([10,11]).astype(int)\n",
    "    else:\n",
    "        sim['is_festive_month'] = 0\n",
    "\n",
    "    # simple capacity rule: if stock<order_size or courier availability low -> miss\n",
    "    sim['pred_miss'] = np.where(\n",
    "    (sim.get('inv_stock_level', 9999) < sim.get('order_size', 1)) |\n",
    "    (sim['cour_availability_sim'] < 0.5) |\n",
    "    (sim.get('ext_traffic_High', 0) == 1) |\n",
    "    (sim.get('ext_weather_severe', 0) == 1),\n",
    "    1, 0\n",
    "    )\n",
    "    sim['on_time_sim'] = np.where(sim['pred_miss']==1, 0, sim['on_time'].fillna(0))\n",
    "    return sim\n",
    "\n",
    "# run scenarios\n",
    "baseline_on_time = df.loc[df['delivery_status']=='delivered','on_time'].mean()\n",
    "print(\"Baseline on-time:\", baseline_on_time)\n",
    "for frac in [0.2,0.4,0.6]:\n",
    "    sim = festive_sim(df, recent_days=30, spike_frac=frac, courier_drop=0.15, traffic_bump=True)\n",
    "    sim_on_time = sim.loc[sim['delivery_status']=='delivered','on_time_sim'].mean()\n",
    "    print(f\"Spike {int(frac*100)}% -> Simulated on-time: {sim_on_time:.4f}, Delta(pp): {(sim_on_time-baseline_on_time)*100:.3f}\")"
   ],
   "outputs": [
    {
     "name": "stdout",
     "output_type": "stream",
     "text": [
      "Baseline on-time: 0.15548234206115252\n",
      "Spike 20% -> Simulated on-time: 0.0836, Delta(pp): -7.190\n",
      "Spike 40% -> Simulated on-time: 0.0836, Delta(pp): -7.190\n",
      "Spike 60% -> Simulated on-time: 0.0833, Delta(pp): -7.216\n"
     ]
    }
   ],
   "execution_count": 42
  },
  {
   "cell_type": "code",
   "id": "c4fa0958468579b3",
   "metadata": {
    "ExecuteTime": {
     "end_time": "2025-09-11T10:16:18.741585Z",
     "start_time": "2025-09-11T10:16:18.484521Z"
    }
   },
   "source": [
    "# visualize baseline vs heavy spike\n",
    "sim_heavy = festive_sim(df, spike_frac=0.6, courier_drop=0.2, traffic_bump=True)\n",
    "vals = {\n",
    "    'baseline': baseline_on_time,\n",
    "    'sim_60pct': sim_heavy.loc[sim_heavy['delivery_status']=='delivered','on_time_sim'].mean()\n",
    "}\n",
    "plt.figure(figsize=(5,3))\n",
    "plt.bar(vals.keys(), [v*100 for v in vals.values()])\n",
    "plt.ylabel('On-time % (delivered)')\n",
    "plt.title('Baseline vs 60% spike with courier drop')\n",
    "plt.tight_layout(); plt.savefig('Cleaned Data/plots/festive_comparison.png', dpi=150); plt.show()\n"
   ],
   "outputs": [
    {
     "data": {
      "text/plain": [
       "<Figure size 500x300 with 1 Axes>"
      ],
      "image/png": "[encoded data removed]"
     },
     "metadata": {},
     "output_type": "display_data",
     "jetTransient": {
      "display_id": null
     }
    }
   ],
   "execution_count": 43
  },
  {
   "cell_type": "markdown",
   "id": "a5db2cf8bd45ec07",
   "metadata": {},
   "source": [
    "The chart shows on-time delivery %. Baseline is normal conditions with usual orders and couriers. Sim_60pct simulates 60% more orders and fewer couriers. The drop shows how high demand and limited couriers can delay deliveries"
   ]
  },
  {
   "cell_type": "code",
   "id": "3a19d38e604aa1af",
   "metadata": {
    "ExecuteTime": {
     "end_time": "2025-09-11T10:16:18.770303Z",
     "start_time": "2025-09-11T10:16:18.766387Z"
    }
   },
   "source": [
    "logging.info(f\"Simulated {len(sim)} rows with {frac*100}% spike, pred_miss rate: {sim['pred_miss'].mean():.4f}\")"
   ],
   "outputs": [],
   "execution_count": 44
  },
  {
   "cell_type": "markdown",
   "id": "df11f6bdeabb134b",
   "metadata": {},
   "source": [
    "### Short executive summary"
   ]
  },
  {
   "cell_type": "code",
   "id": "f3901f9d1b6269d2",
   "metadata": {
    "ExecuteTime": {
     "end_time": "2025-09-11T10:16:18.787324Z",
     "start_time": "2025-09-11T10:16:18.782160Z"
    }
   },
   "source": [
    "savings = (baseline_on_time - sim_on_time) * df['order_value'].mean() * delivered / 4\n",
    "logging.info(f\"Estimated quarterly savings: ₹{savings:.2f}\")"
   ],
   "outputs": [],
   "execution_count": 45
  },
  {
   "cell_type": "code",
   "id": "8a609d6435f6773d",
   "metadata": {
    "ExecuteTime": {
     "end_time": "2025-09-11T10:16:18.839110Z",
     "start_time": "2025-09-11T10:16:18.811152Z"
    }
   },
   "source": [
    "print(\"\\n=== Executive summary ===\")\n",
    "print(f\"Total orders: {total_orders}, Delivered: {delivered}, On-time: {on_time_rate:.2%}, Avg delay: {avg_delay:.1f} mins / {avg_delay/60:.2f} hr\")\n",
    "print(\"Top worst cities (sample):\"); display(worst.head(5))\n",
    "print(\"Top best cities (sample):\"); display(best.head(5))\n",
    "print(\"Feature importance (top 5):\"); display(coef_df.head(5))"
   ],
   "outputs": [
    {
     "name": "stdout",
     "output_type": "stream",
     "text": [
      "\n",
      "=== Executive summary ===\n",
      "Total orders: 23041, Delivered: 17301, On-time: 15.55%, Avg delay: 122.8 mins / 2.05 hr\n",
      "Top worst cities (sample):\n"
     ]
    },
    {
     "data": {
      "text/plain": [
       "   cust_customer_location  on_time  n\n",
       "0            AGRA, 282002      0.0  1\n",
       "5       ALLAHABAD, 211005      0.0  1\n",
       "8        AMRITSAR, 143001      0.0  1\n",
       "12     AURANGABAD, 431004      0.0  1\n",
       "14     AURANGABAD, 431010      0.0  1"
      ],
      "text/html": [
       "<div>\n",
       "<style scoped>\n",
       "    .dataframe tbody tr th:only-of-type {\n",
       "        vertical-align: middle;\n",
       "    }\n",
       "\n",
       "    .dataframe tbody tr th {\n",
       "        vertical-align: top;\n",
       "    }\n",
       "\n",
       "    .dataframe thead th {\n",
       "        text-align: right;\n",
       "    }\n",
       "</style>\n",
       "<table border=\"1\" class=\"dataframe\">\n",
       "  <thead>\n",
       "    <tr style=\"text-align: right;\">\n",
       "      <th></th>\n",
       "      <th>cust_customer_location</th>\n",
       "      <th>on_time</th>\n",
       "      <th>n</th>\n",
       "    </tr>\n",
       "  </thead>\n",
       "  <tbody>\n",
       "    <tr>\n",
       "      <th>0</th>\n",
       "      <td>AGRA, 282002</td>\n",
       "      <td>0.0</td>\n",
       "      <td>1</td>\n",
       "    </tr>\n",
       "    <tr>\n",
       "      <th>5</th>\n",
       "      <td>ALLAHABAD, 211005</td>\n",
       "      <td>0.0</td>\n",
       "      <td>1</td>\n",
       "    </tr>\n",
       "    <tr>\n",
       "      <th>8</th>\n",
       "      <td>AMRITSAR, 143001</td>\n",
       "      <td>0.0</td>\n",
       "      <td>1</td>\n",
       "    </tr>\n",
       "    <tr>\n",
       "      <th>12</th>\n",
       "      <td>AURANGABAD, 431004</td>\n",
       "      <td>0.0</td>\n",
       "      <td>1</td>\n",
       "    </tr>\n",
       "    <tr>\n",
       "      <th>14</th>\n",
       "      <td>AURANGABAD, 431010</td>\n",
       "      <td>0.0</td>\n",
       "      <td>1</td>\n",
       "    </tr>\n",
       "  </tbody>\n",
       "</table>\n",
       "</div>"
      ]
     },
     "metadata": {},
     "output_type": "display_data",
     "jetTransient": {
      "display_id": null
     }
    },
    {
     "name": "stdout",
     "output_type": "stream",
     "text": [
      "Top best cities (sample):\n"
     ]
    },
    {
     "data": {
      "text/plain": [
       "    cust_customer_location  on_time  n\n",
       "889       Guwahati, 781018      1.0  3\n",
       "349     CHANDIGARH, 160026      1.0  2\n",
       "703         GUNTUR, 522001      1.0  2\n",
       "847        Gurgaon, 122014      1.0  2\n",
       "962         Hoobli, 580029      1.0  2"
      ],
      "text/html": [
       "<div>\n",
       "<style scoped>\n",
       "    .dataframe tbody tr th:only-of-type {\n",
       "        vertical-align: middle;\n",
       "    }\n",
       "\n",
       "    .dataframe tbody tr th {\n",
       "        vertical-align: top;\n",
       "    }\n",
       "\n",
       "    .dataframe thead th {\n",
       "        text-align: right;\n",
       "    }\n",
       "</style>\n",
       "<table border=\"1\" class=\"dataframe\">\n",
       "  <thead>\n",
       "    <tr style=\"text-align: right;\">\n",
       "      <th></th>\n",
       "      <th>cust_customer_location</th>\n",
       "      <th>on_time</th>\n",
       "      <th>n</th>\n",
       "    </tr>\n",
       "  </thead>\n",
       "  <tbody>\n",
       "    <tr>\n",
       "      <th>889</th>\n",
       "      <td>Guwahati, 781018</td>\n",
       "      <td>1.0</td>\n",
       "      <td>3</td>\n",
       "    </tr>\n",
       "    <tr>\n",
       "      <th>349</th>\n",
       "      <td>CHANDIGARH, 160026</td>\n",
       "      <td>1.0</td>\n",
       "      <td>2</td>\n",
       "    </tr>\n",
       "    <tr>\n",
       "      <th>703</th>\n",
       "      <td>GUNTUR, 522001</td>\n",
       "      <td>1.0</td>\n",
       "      <td>2</td>\n",
       "    </tr>\n",
       "    <tr>\n",
       "      <th>847</th>\n",
       "      <td>Gurgaon, 122014</td>\n",
       "      <td>1.0</td>\n",
       "      <td>2</td>\n",
       "    </tr>\n",
       "    <tr>\n",
       "      <th>962</th>\n",
       "      <td>Hoobli, 580029</td>\n",
       "      <td>1.0</td>\n",
       "      <td>2</td>\n",
       "    </tr>\n",
       "  </tbody>\n",
       "</table>\n",
       "</div>"
      ]
     },
     "metadata": {},
     "output_type": "display_data",
     "jetTransient": {
      "display_id": null
     }
    },
    {
     "name": "stdout",
     "output_type": "stream",
     "text": [
      "Feature importance (top 5):\n"
     ]
    },
    {
     "data": {
      "text/plain": [
       "is_weekend_True      0.078981\n",
       "order_value          0.050959\n",
       "cour_availability    0.019084\n",
       "inv_stock_level      0.005900\n",
       "order_size           0.005631\n",
       "dtype: float64"
      ]
     },
     "metadata": {},
     "output_type": "display_data",
     "jetTransient": {
      "display_id": null
     }
    }
   ],
   "execution_count": 46
  },
  {
   "metadata": {
    "ExecuteTime": {
     "end_time": "2025-09-11T10:16:19.005927Z",
     "start_time": "2025-09-11T10:16:18.984883Z"
    }
   },
   "cell_type": "code",
   "source": [
    "# A/B Testing for Slot Allocation\n",
    "df['test_group'] = np.random.choice(['control', 'new_slot'], size=len(df), p=[0.5, 0.5])\n",
    "ab_results = df.groupby('test_group')['on_time'].mean().reset_index()\n",
    "ab_results.columns = ['Test_Group', 'On_Time_Rate']\n",
    "print(\"A/B Test Results for Slot Allocation:\")\n",
    "display(ab_results)\n",
    "print(\"Interpretation: If 'new_slot' has higher on-time rate than 'control', implement new strategy in high-risk cities.\")\n",
    "# Export for PowerBI\n",
    "ab_results.to_csv('Cleaned Data/ab_test_results.csv', index=False)\n"
   ],
   "id": "4e0fac45decc9ef9",
   "outputs": [
    {
     "name": "stdout",
     "output_type": "stream",
     "text": [
      "A/B Test Results for Slot Allocation:\n"
     ]
    },
    {
     "data": {
      "text/plain": [
       "  Test_Group  On_Time_Rate\n",
       "0    control      0.117945\n",
       "1   new_slot      0.115567"
      ],
      "text/html": [
       "<div>\n",
       "<style scoped>\n",
       "    .dataframe tbody tr th:only-of-type {\n",
       "        vertical-align: middle;\n",
       "    }\n",
       "\n",
       "    .dataframe tbody tr th {\n",
       "        vertical-align: top;\n",
       "    }\n",
       "\n",
       "    .dataframe thead th {\n",
       "        text-align: right;\n",
       "    }\n",
       "</style>\n",
       "<table border=\"1\" class=\"dataframe\">\n",
       "  <thead>\n",
       "    <tr style=\"text-align: right;\">\n",
       "      <th></th>\n",
       "      <th>Test_Group</th>\n",
       "      <th>On_Time_Rate</th>\n",
       "    </tr>\n",
       "  </thead>\n",
       "  <tbody>\n",
       "    <tr>\n",
       "      <th>0</th>\n",
       "      <td>control</td>\n",
       "      <td>0.117945</td>\n",
       "    </tr>\n",
       "    <tr>\n",
       "      <th>1</th>\n",
       "      <td>new_slot</td>\n",
       "      <td>0.115567</td>\n",
       "    </tr>\n",
       "  </tbody>\n",
       "</table>\n",
       "</div>"
      ]
     },
     "metadata": {},
     "output_type": "display_data",
     "jetTransient": {
      "display_id": null
     }
    },
    {
     "name": "stdout",
     "output_type": "stream",
     "text": [
      "Interpretation: If 'new_slot' has higher on-time rate than 'control', implement new strategy in high-risk cities.\n"
     ]
    }
   ],
   "execution_count": 47
  },
  {
   "cell_type": "markdown",
   "id": "c8f4680f9a346ec",
   "metadata": {},
   "source": [
    "## Save cleaned data & plots"
   ]
  },
  {
   "cell_type": "code",
   "id": "98371b2c3069bfc3",
   "metadata": {
    "ExecuteTime": {
     "end_time": "2025-09-11T10:16:20.249052500Z",
     "start_time": "2025-09-03T06:30:30.545913Z"
    }
   },
   "source": [
    "# Save cleaned data\n",
    "# Ensure output folder exists\n",
    "import os\n",
    "output_dir = 'Cleaned Data'\n",
    "os.makedirs(output_dir, exist_ok=True)\n",
    "\n",
    "# Save all cleaned flat tables for Power BI\n",
    "df.to_csv(f'{output_dir}/master_table_cleaned.csv', index=False)\n",
    "df_orders.to_csv(f'{output_dir}/orders_cleaned.csv', index=False)\n",
    "df_customers.to_csv(f'{output_dir}/customers_cleaned.csv', index=False)\n",
    "df_inventory.to_csv(f'{output_dir}/inventory_cleaned.csv', index=False)\n",
    "df_couriers.to_csv(f'{output_dir}/couriers_cleaned.csv', index=False)\n",
    "df_external.to_csv(f'{output_dir}/external_cleaned.csv', index=False)\n"
   ],
   "outputs": [],
   "execution_count": 47
  }
 ],
 "metadata": {
  "kernelspec": {
   "display_name": "Python 3 (ipykernel)",
   "language": "python",
   "name": "python3"
  },
  "language_info": {
   "codemirror_mode": {
    "name": "ipython",
    "version": 3
   },
   "file_extension": ".py",
   "mimetype": "text/x-python",
   "name": "python",
   "nbconvert_exporter": "python",
   "pygments_lexer": "ipython3",
   "version": "3.13.5"
  }
 },
 "nbformat": 4,
 "nbformat_minor": 5
}
